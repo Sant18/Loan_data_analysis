{
  "nbformat": 4,
  "nbformat_minor": 0,
  "metadata": {
    "colab": {
      "name": "Loan_Dataset_analysis.ipynb",
      "provenance": [],
      "collapsed_sections": [],
      "authorship_tag": "ABX9TyMw/D/JgW0bMURabJbhnUdR",
      "include_colab_link": true
    },
    "kernelspec": {
      "name": "python3",
      "display_name": "Python 3"
    },
    "language_info": {
      "name": "python"
    }
  },
  "cells": [
    {
      "cell_type": "markdown",
      "metadata": {
        "id": "view-in-github",
        "colab_type": "text"
      },
      "source": [
        "<a href=\"https://colab.research.google.com/github/Sant18/Loan_data_analysis/blob/main/Loan_Dataset_analysis.ipynb\" target=\"_parent\"><img src=\"https://colab.research.google.com/assets/colab-badge.svg\" alt=\"Open In Colab\"/></a>"
      ]
    },
    {
      "cell_type": "code",
      "metadata": {
        "colab": {
          "resources": {
            "http://localhost:8080/nbextensions/google.colab/files.js": {
              "data": "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",
              "ok": true,
              "headers": [
                [
                  "content-type",
                  "application/javascript"
                ]
              ],
              "status": 200,
              "status_text": ""
            }
          },
          "base_uri": "https://localhost:8080/",
          "height": 73
        },
        "id": "9a1uKxF2qN6a",
        "outputId": "e7e8ca06-2ab8-4629-b4e2-58e04eb77960"
      },
      "source": [
        "from google.colab import files\n",
        "uploaded = files.upload()"
      ],
      "execution_count": 71,
      "outputs": [
        {
          "output_type": "display_data",
          "data": {
            "text/html": [
              "\n",
              "     <input type=\"file\" id=\"files-d2052d05-f2f2-4d44-9f0e-0ed30bb0321b\" name=\"files[]\" multiple disabled\n",
              "        style=\"border:none\" />\n",
              "     <output id=\"result-d2052d05-f2f2-4d44-9f0e-0ed30bb0321b\">\n",
              "      Upload widget is only available when the cell has been executed in the\n",
              "      current browser session. Please rerun this cell to enable.\n",
              "      </output>\n",
              "      <script src=\"/nbextensions/google.colab/files.js\"></script> "
            ],
            "text/plain": [
              "<IPython.core.display.HTML object>"
            ]
          },
          "metadata": {
            "tags": []
          }
        },
        {
          "output_type": "stream",
          "text": [
            "Saving loan_ds.csv to loan_ds (1).csv\n"
          ],
          "name": "stdout"
        }
      ]
    },
    {
      "cell_type": "code",
      "metadata": {
        "id": "sI3VN5k8qZij"
      },
      "source": [
        "import pandas as pd\n",
        "import matplotlib.pyplot as plt\n",
        "import numpy as np\n",
        "import io\n",
        "import seaborn as sns"
      ],
      "execution_count": 72,
      "outputs": []
    },
    {
      "cell_type": "code",
      "metadata": {
        "id": "A7YpKrnQqZli"
      },
      "source": [
        "df = pd.read_csv(io.BytesIO(uploaded['loan_ds.csv']))"
      ],
      "execution_count": 73,
      "outputs": []
    },
    {
      "cell_type": "code",
      "metadata": {
        "colab": {
          "base_uri": "https://localhost:8080/"
        },
        "id": "XJ0F2Q7GqZoH",
        "outputId": "39218561-72bc-4d35-aea8-07eb0d26a7b9"
      },
      "source": [
        "df.columns"
      ],
      "execution_count": 74,
      "outputs": [
        {
          "output_type": "execute_result",
          "data": {
            "text/plain": [
              "Index(['Loan_ID', 'Gender', 'Married', 'Dependents', 'Education',\n",
              "       'Self_Employed', 'ApplicantIncome', 'Loan_Amount_Term',\n",
              "       'CoapplicantIncome', 'LoanAmount', 'Credit_History', 'Property_Area',\n",
              "       'Loan_Status'],\n",
              "      dtype='object')"
            ]
          },
          "metadata": {
            "tags": []
          },
          "execution_count": 74
        }
      ]
    },
    {
      "cell_type": "markdown",
      "metadata": {
        "id": "Y94EWyZP1KWH"
      },
      "source": [
        "Check data types"
      ]
    },
    {
      "cell_type": "code",
      "metadata": {
        "id": "a9bF21ZqsZlX"
      },
      "source": [
        "def check_col_type(df):\n",
        "  col = []\n",
        "  typ = []\n",
        "  for i in df.columns:\n",
        "    col.append(i)\n",
        "    typ.append(df[i].dtype)\n",
        "  df_ = pd.DataFrame(zip(col, typ)).rename(columns={0:'Column', 1:'dtype'})\n",
        "  return df_"
      ],
      "execution_count": 75,
      "outputs": []
    },
    {
      "cell_type": "code",
      "metadata": {
        "colab": {
          "base_uri": "https://localhost:8080/",
          "height": 445
        },
        "id": "L3uk26GKsdY9",
        "outputId": "08a9a455-dbb4-4bc7-d1a9-a019554fc295"
      },
      "source": [
        "check_col_type(df)"
      ],
      "execution_count": 76,
      "outputs": [
        {
          "output_type": "execute_result",
          "data": {
            "text/html": [
              "<div>\n",
              "<style scoped>\n",
              "    .dataframe tbody tr th:only-of-type {\n",
              "        vertical-align: middle;\n",
              "    }\n",
              "\n",
              "    .dataframe tbody tr th {\n",
              "        vertical-align: top;\n",
              "    }\n",
              "\n",
              "    .dataframe thead th {\n",
              "        text-align: right;\n",
              "    }\n",
              "</style>\n",
              "<table border=\"1\" class=\"dataframe\">\n",
              "  <thead>\n",
              "    <tr style=\"text-align: right;\">\n",
              "      <th></th>\n",
              "      <th>Column</th>\n",
              "      <th>dtype</th>\n",
              "    </tr>\n",
              "  </thead>\n",
              "  <tbody>\n",
              "    <tr>\n",
              "      <th>0</th>\n",
              "      <td>Loan_ID</td>\n",
              "      <td>object</td>\n",
              "    </tr>\n",
              "    <tr>\n",
              "      <th>1</th>\n",
              "      <td>Gender</td>\n",
              "      <td>object</td>\n",
              "    </tr>\n",
              "    <tr>\n",
              "      <th>2</th>\n",
              "      <td>Married</td>\n",
              "      <td>object</td>\n",
              "    </tr>\n",
              "    <tr>\n",
              "      <th>3</th>\n",
              "      <td>Dependents</td>\n",
              "      <td>object</td>\n",
              "    </tr>\n",
              "    <tr>\n",
              "      <th>4</th>\n",
              "      <td>Education</td>\n",
              "      <td>object</td>\n",
              "    </tr>\n",
              "    <tr>\n",
              "      <th>5</th>\n",
              "      <td>Self_Employed</td>\n",
              "      <td>object</td>\n",
              "    </tr>\n",
              "    <tr>\n",
              "      <th>6</th>\n",
              "      <td>ApplicantIncome</td>\n",
              "      <td>int64</td>\n",
              "    </tr>\n",
              "    <tr>\n",
              "      <th>7</th>\n",
              "      <td>Loan_Amount_Term</td>\n",
              "      <td>float64</td>\n",
              "    </tr>\n",
              "    <tr>\n",
              "      <th>8</th>\n",
              "      <td>CoapplicantIncome</td>\n",
              "      <td>int64</td>\n",
              "    </tr>\n",
              "    <tr>\n",
              "      <th>9</th>\n",
              "      <td>LoanAmount</td>\n",
              "      <td>float64</td>\n",
              "    </tr>\n",
              "    <tr>\n",
              "      <th>10</th>\n",
              "      <td>Credit_History</td>\n",
              "      <td>float64</td>\n",
              "    </tr>\n",
              "    <tr>\n",
              "      <th>11</th>\n",
              "      <td>Property_Area</td>\n",
              "      <td>object</td>\n",
              "    </tr>\n",
              "    <tr>\n",
              "      <th>12</th>\n",
              "      <td>Loan_Status</td>\n",
              "      <td>object</td>\n",
              "    </tr>\n",
              "  </tbody>\n",
              "</table>\n",
              "</div>"
            ],
            "text/plain": [
              "               Column    dtype\n",
              "0             Loan_ID   object\n",
              "1              Gender   object\n",
              "2             Married   object\n",
              "3          Dependents   object\n",
              "4           Education   object\n",
              "5       Self_Employed   object\n",
              "6     ApplicantIncome    int64\n",
              "7    Loan_Amount_Term  float64\n",
              "8   CoapplicantIncome    int64\n",
              "9          LoanAmount  float64\n",
              "10     Credit_History  float64\n",
              "11      Property_Area   object\n",
              "12        Loan_Status   object"
            ]
          },
          "metadata": {
            "tags": []
          },
          "execution_count": 76
        }
      ]
    },
    {
      "cell_type": "markdown",
      "metadata": {
        "id": "eeueVlad1O4w"
      },
      "source": [
        "Check unique values"
      ]
    },
    {
      "cell_type": "code",
      "metadata": {
        "id": "Yha8RcoMsdcI"
      },
      "source": [
        "def check_unique_vals(df):\n",
        "  col = []\n",
        "  uni_lst = []\n",
        "  for i in df.columns:\n",
        "    col.append(i)\n",
        "    uni = df[i].unique()\n",
        "    if len(uni) > 10:\n",
        "      uni_lst.append(len(uni))\n",
        "    else:\n",
        "      uni_lst.append(uni)\n",
        "  \n",
        "  df_ = pd.DataFrame(zip(col, uni_lst)).rename(columns={0:'Columns', 1:'Values'})\n",
        "  return df_"
      ],
      "execution_count": 77,
      "outputs": []
    },
    {
      "cell_type": "code",
      "metadata": {
        "colab": {
          "base_uri": "https://localhost:8080/",
          "height": 445
        },
        "id": "z2J2PZalylEJ",
        "outputId": "b8cb6403-9056-4297-da17-0ee47e24f8a7"
      },
      "source": [
        "check_unique_vals(df)"
      ],
      "execution_count": 78,
      "outputs": [
        {
          "output_type": "execute_result",
          "data": {
            "text/html": [
              "<div>\n",
              "<style scoped>\n",
              "    .dataframe tbody tr th:only-of-type {\n",
              "        vertical-align: middle;\n",
              "    }\n",
              "\n",
              "    .dataframe tbody tr th {\n",
              "        vertical-align: top;\n",
              "    }\n",
              "\n",
              "    .dataframe thead th {\n",
              "        text-align: right;\n",
              "    }\n",
              "</style>\n",
              "<table border=\"1\" class=\"dataframe\">\n",
              "  <thead>\n",
              "    <tr style=\"text-align: right;\">\n",
              "      <th></th>\n",
              "      <th>Columns</th>\n",
              "      <th>Values</th>\n",
              "    </tr>\n",
              "  </thead>\n",
              "  <tbody>\n",
              "    <tr>\n",
              "      <th>0</th>\n",
              "      <td>Loan_ID</td>\n",
              "      <td>614</td>\n",
              "    </tr>\n",
              "    <tr>\n",
              "      <th>1</th>\n",
              "      <td>Gender</td>\n",
              "      <td>[nan, Male, Female]</td>\n",
              "    </tr>\n",
              "    <tr>\n",
              "      <th>2</th>\n",
              "      <td>Married</td>\n",
              "      <td>[Yes, No, nan]</td>\n",
              "    </tr>\n",
              "    <tr>\n",
              "      <th>3</th>\n",
              "      <td>Dependents</td>\n",
              "      <td>[3+, 0, 1, 2, nan]</td>\n",
              "    </tr>\n",
              "    <tr>\n",
              "      <th>4</th>\n",
              "      <td>Education</td>\n",
              "      <td>[Graduate, Not Graduate]</td>\n",
              "    </tr>\n",
              "    <tr>\n",
              "      <th>5</th>\n",
              "      <td>Self_Employed</td>\n",
              "      <td>[No, Yes, nan]</td>\n",
              "    </tr>\n",
              "    <tr>\n",
              "      <th>6</th>\n",
              "      <td>ApplicantIncome</td>\n",
              "      <td>505</td>\n",
              "    </tr>\n",
              "    <tr>\n",
              "      <th>7</th>\n",
              "      <td>Loan_Amount_Term</td>\n",
              "      <td>11</td>\n",
              "    </tr>\n",
              "    <tr>\n",
              "      <th>8</th>\n",
              "      <td>CoapplicantIncome</td>\n",
              "      <td>287</td>\n",
              "    </tr>\n",
              "    <tr>\n",
              "      <th>9</th>\n",
              "      <td>LoanAmount</td>\n",
              "      <td>204</td>\n",
              "    </tr>\n",
              "    <tr>\n",
              "      <th>10</th>\n",
              "      <td>Credit_History</td>\n",
              "      <td>[1.0, nan, 0.0]</td>\n",
              "    </tr>\n",
              "    <tr>\n",
              "      <th>11</th>\n",
              "      <td>Property_Area</td>\n",
              "      <td>[Urban, Semiurban, Rural]</td>\n",
              "    </tr>\n",
              "    <tr>\n",
              "      <th>12</th>\n",
              "      <td>Loan_Status</td>\n",
              "      <td>[Y, N]</td>\n",
              "    </tr>\n",
              "  </tbody>\n",
              "</table>\n",
              "</div>"
            ],
            "text/plain": [
              "              Columns                     Values\n",
              "0             Loan_ID                        614\n",
              "1              Gender        [nan, Male, Female]\n",
              "2             Married             [Yes, No, nan]\n",
              "3          Dependents         [3+, 0, 1, 2, nan]\n",
              "4           Education   [Graduate, Not Graduate]\n",
              "5       Self_Employed             [No, Yes, nan]\n",
              "6     ApplicantIncome                        505\n",
              "7    Loan_Amount_Term                         11\n",
              "8   CoapplicantIncome                        287\n",
              "9          LoanAmount                        204\n",
              "10     Credit_History            [1.0, nan, 0.0]\n",
              "11      Property_Area  [Urban, Semiurban, Rural]\n",
              "12        Loan_Status                     [Y, N]"
            ]
          },
          "metadata": {
            "tags": []
          },
          "execution_count": 78
        }
      ]
    },
    {
      "cell_type": "code",
      "metadata": {
        "id": "Fq1LUw6dsdeq"
      },
      "source": [
        "def check_null():\n",
        "  temp = pd.DataFrame(round((df.isnull().sum()/df.shape[0])*100,2))\n",
        "  temp_df = temp.rename(columns={0:'Perc/Null'}).sort_values(by='Perc/Null', ascending=False)\n",
        "  temp_df = temp_df[temp_df['Perc/Null'] != 0]\n",
        "  return temp_df"
      ],
      "execution_count": 79,
      "outputs": []
    },
    {
      "cell_type": "markdown",
      "metadata": {
        "id": "magwYEPH1UOr"
      },
      "source": [
        "Check null values"
      ]
    },
    {
      "cell_type": "code",
      "metadata": {
        "id": "ouWfZG6lsdhY"
      },
      "source": [
        "def check_null_vals(df):\n",
        "  df_ = pd.DataFrame(round((df.isnull().sum()/df.shape[0])*100,2))\n",
        "  df_ = df_.rename(columns={0:'Null_%'})\n",
        "  df_ = df_.sort_values(by='Null_%', ascending=False)\n",
        "  df_ = df_.loc[df_['Null_%'] != 0]\n",
        "  return df_"
      ],
      "execution_count": 80,
      "outputs": []
    },
    {
      "cell_type": "code",
      "metadata": {
        "colab": {
          "base_uri": "https://localhost:8080/",
          "height": 262
        },
        "id": "43QkAat2sdkE",
        "outputId": "b7e2dd1a-7a05-45b1-8628-0a6b06f57c22"
      },
      "source": [
        "check_null_vals(df)"
      ],
      "execution_count": 81,
      "outputs": [
        {
          "output_type": "execute_result",
          "data": {
            "text/html": [
              "<div>\n",
              "<style scoped>\n",
              "    .dataframe tbody tr th:only-of-type {\n",
              "        vertical-align: middle;\n",
              "    }\n",
              "\n",
              "    .dataframe tbody tr th {\n",
              "        vertical-align: top;\n",
              "    }\n",
              "\n",
              "    .dataframe thead th {\n",
              "        text-align: right;\n",
              "    }\n",
              "</style>\n",
              "<table border=\"1\" class=\"dataframe\">\n",
              "  <thead>\n",
              "    <tr style=\"text-align: right;\">\n",
              "      <th></th>\n",
              "      <th>Null_%</th>\n",
              "    </tr>\n",
              "  </thead>\n",
              "  <tbody>\n",
              "    <tr>\n",
              "      <th>Credit_History</th>\n",
              "      <td>8.14</td>\n",
              "    </tr>\n",
              "    <tr>\n",
              "      <th>Self_Employed</th>\n",
              "      <td>5.21</td>\n",
              "    </tr>\n",
              "    <tr>\n",
              "      <th>LoanAmount</th>\n",
              "      <td>3.58</td>\n",
              "    </tr>\n",
              "    <tr>\n",
              "      <th>Dependents</th>\n",
              "      <td>2.44</td>\n",
              "    </tr>\n",
              "    <tr>\n",
              "      <th>Loan_Amount_Term</th>\n",
              "      <td>2.28</td>\n",
              "    </tr>\n",
              "    <tr>\n",
              "      <th>Gender</th>\n",
              "      <td>2.12</td>\n",
              "    </tr>\n",
              "    <tr>\n",
              "      <th>Married</th>\n",
              "      <td>0.49</td>\n",
              "    </tr>\n",
              "  </tbody>\n",
              "</table>\n",
              "</div>"
            ],
            "text/plain": [
              "                  Null_%\n",
              "Credit_History      8.14\n",
              "Self_Employed       5.21\n",
              "LoanAmount          3.58\n",
              "Dependents          2.44\n",
              "Loan_Amount_Term    2.28\n",
              "Gender              2.12\n",
              "Married             0.49"
            ]
          },
          "metadata": {
            "tags": []
          },
          "execution_count": 81
        }
      ]
    },
    {
      "cell_type": "markdown",
      "metadata": {
        "id": "i7NAv2DqzpHE"
      },
      "source": [
        "Group by/Pivot Tables/Plots\n"
      ]
    },
    {
      "cell_type": "code",
      "metadata": {
        "colab": {
          "base_uri": "https://localhost:8080/",
          "height": 201
        },
        "id": "eciS4za22ALm",
        "outputId": "d147e458-071b-438c-b4f5-f24865ec3fe8"
      },
      "source": [
        "df.head()"
      ],
      "execution_count": 82,
      "outputs": [
        {
          "output_type": "execute_result",
          "data": {
            "text/html": [
              "<div>\n",
              "<style scoped>\n",
              "    .dataframe tbody tr th:only-of-type {\n",
              "        vertical-align: middle;\n",
              "    }\n",
              "\n",
              "    .dataframe tbody tr th {\n",
              "        vertical-align: top;\n",
              "    }\n",
              "\n",
              "    .dataframe thead th {\n",
              "        text-align: right;\n",
              "    }\n",
              "</style>\n",
              "<table border=\"1\" class=\"dataframe\">\n",
              "  <thead>\n",
              "    <tr style=\"text-align: right;\">\n",
              "      <th></th>\n",
              "      <th>Loan_ID</th>\n",
              "      <th>Gender</th>\n",
              "      <th>Married</th>\n",
              "      <th>Dependents</th>\n",
              "      <th>Education</th>\n",
              "      <th>Self_Employed</th>\n",
              "      <th>ApplicantIncome</th>\n",
              "      <th>Loan_Amount_Term</th>\n",
              "      <th>CoapplicantIncome</th>\n",
              "      <th>LoanAmount</th>\n",
              "      <th>Credit_History</th>\n",
              "      <th>Property_Area</th>\n",
              "      <th>Loan_Status</th>\n",
              "    </tr>\n",
              "  </thead>\n",
              "  <tbody>\n",
              "    <tr>\n",
              "      <th>0</th>\n",
              "      <td>LP001585</td>\n",
              "      <td>NaN</td>\n",
              "      <td>Yes</td>\n",
              "      <td>3+</td>\n",
              "      <td>Graduate</td>\n",
              "      <td>No</td>\n",
              "      <td>51763</td>\n",
              "      <td>300.0</td>\n",
              "      <td>0</td>\n",
              "      <td>700.0</td>\n",
              "      <td>1.0</td>\n",
              "      <td>Urban</td>\n",
              "      <td>Y</td>\n",
              "    </tr>\n",
              "    <tr>\n",
              "      <th>1</th>\n",
              "      <td>LP001469</td>\n",
              "      <td>Male</td>\n",
              "      <td>No</td>\n",
              "      <td>0</td>\n",
              "      <td>Graduate</td>\n",
              "      <td>Yes</td>\n",
              "      <td>20166</td>\n",
              "      <td>480.0</td>\n",
              "      <td>0</td>\n",
              "      <td>650.0</td>\n",
              "      <td>NaN</td>\n",
              "      <td>Urban</td>\n",
              "      <td>Y</td>\n",
              "    </tr>\n",
              "    <tr>\n",
              "      <th>2</th>\n",
              "      <td>LP001536</td>\n",
              "      <td>Male</td>\n",
              "      <td>Yes</td>\n",
              "      <td>3+</td>\n",
              "      <td>Graduate</td>\n",
              "      <td>No</td>\n",
              "      <td>39999</td>\n",
              "      <td>180.0</td>\n",
              "      <td>0</td>\n",
              "      <td>600.0</td>\n",
              "      <td>0.0</td>\n",
              "      <td>Semiurban</td>\n",
              "      <td>Y</td>\n",
              "    </tr>\n",
              "    <tr>\n",
              "      <th>3</th>\n",
              "      <td>LP002813</td>\n",
              "      <td>Female</td>\n",
              "      <td>Yes</td>\n",
              "      <td>1</td>\n",
              "      <td>Graduate</td>\n",
              "      <td>Yes</td>\n",
              "      <td>19484</td>\n",
              "      <td>360.0</td>\n",
              "      <td>0</td>\n",
              "      <td>600.0</td>\n",
              "      <td>1.0</td>\n",
              "      <td>Semiurban</td>\n",
              "      <td>Y</td>\n",
              "    </tr>\n",
              "    <tr>\n",
              "      <th>4</th>\n",
              "      <td>LP002191</td>\n",
              "      <td>Male</td>\n",
              "      <td>Yes</td>\n",
              "      <td>0</td>\n",
              "      <td>Graduate</td>\n",
              "      <td>No</td>\n",
              "      <td>19730</td>\n",
              "      <td>360.0</td>\n",
              "      <td>5266</td>\n",
              "      <td>570.0</td>\n",
              "      <td>1.0</td>\n",
              "      <td>Rural</td>\n",
              "      <td>N</td>\n",
              "    </tr>\n",
              "  </tbody>\n",
              "</table>\n",
              "</div>"
            ],
            "text/plain": [
              "    Loan_ID  Gender Married  ... Credit_History Property_Area Loan_Status\n",
              "0  LP001585     NaN     Yes  ...            1.0         Urban           Y\n",
              "1  LP001469    Male      No  ...            NaN         Urban           Y\n",
              "2  LP001536    Male     Yes  ...            0.0     Semiurban           Y\n",
              "3  LP002813  Female     Yes  ...            1.0     Semiurban           Y\n",
              "4  LP002191    Male     Yes  ...            1.0         Rural           N\n",
              "\n",
              "[5 rows x 13 columns]"
            ]
          },
          "metadata": {
            "tags": []
          },
          "execution_count": 82
        }
      ]
    },
    {
      "cell_type": "code",
      "metadata": {
        "id": "HangBSib3_uc",
        "colab": {
          "base_uri": "https://localhost:8080/",
          "height": 140
        },
        "outputId": "7cb28da4-7e21-40dd-9550-f7e190e32dbe"
      },
      "source": [
        "pd.DataFrame(df.Gender.value_counts(dropna=False))"
      ],
      "execution_count": 83,
      "outputs": [
        {
          "output_type": "execute_result",
          "data": {
            "text/html": [
              "<div>\n",
              "<style scoped>\n",
              "    .dataframe tbody tr th:only-of-type {\n",
              "        vertical-align: middle;\n",
              "    }\n",
              "\n",
              "    .dataframe tbody tr th {\n",
              "        vertical-align: top;\n",
              "    }\n",
              "\n",
              "    .dataframe thead th {\n",
              "        text-align: right;\n",
              "    }\n",
              "</style>\n",
              "<table border=\"1\" class=\"dataframe\">\n",
              "  <thead>\n",
              "    <tr style=\"text-align: right;\">\n",
              "      <th></th>\n",
              "      <th>Gender</th>\n",
              "    </tr>\n",
              "  </thead>\n",
              "  <tbody>\n",
              "    <tr>\n",
              "      <th>Male</th>\n",
              "      <td>489</td>\n",
              "    </tr>\n",
              "    <tr>\n",
              "      <th>Female</th>\n",
              "      <td>112</td>\n",
              "    </tr>\n",
              "    <tr>\n",
              "      <th>NaN</th>\n",
              "      <td>13</td>\n",
              "    </tr>\n",
              "  </tbody>\n",
              "</table>\n",
              "</div>"
            ],
            "text/plain": [
              "        Gender\n",
              "Male       489\n",
              "Female     112\n",
              "NaN         13"
            ]
          },
          "metadata": {
            "tags": []
          },
          "execution_count": 83
        }
      ]
    },
    {
      "cell_type": "code",
      "metadata": {
        "id": "HOxHMjxZ0OgP"
      },
      "source": [
        "df['Loan_Status_num'] = [1 if i == 'Y' else 0 for i in df['Loan_Status']]"
      ],
      "execution_count": 84,
      "outputs": []
    },
    {
      "cell_type": "code",
      "metadata": {
        "colab": {
          "base_uri": "https://localhost:8080/"
        },
        "id": "rT9y3Mv_0v8P",
        "outputId": "5a342f13-3149-41cd-ae9e-2e31b331d385"
      },
      "source": [
        "df['Loan_Status_num'].dtype"
      ],
      "execution_count": 85,
      "outputs": [
        {
          "output_type": "execute_result",
          "data": {
            "text/plain": [
              "dtype('int64')"
            ]
          },
          "metadata": {
            "tags": []
          },
          "execution_count": 85
        }
      ]
    },
    {
      "cell_type": "code",
      "metadata": {
        "colab": {
          "base_uri": "https://localhost:8080/",
          "height": 140
        },
        "id": "mW-y0E4x0BKA",
        "outputId": "baf60b69-221e-41f0-9049-bd6d8450bf75"
      },
      "source": [
        "(pd.DataFrame(round(df.groupby('Gender')['Loan_Status_num'].mean(), 2))*100)"
      ],
      "execution_count": 86,
      "outputs": [
        {
          "output_type": "execute_result",
          "data": {
            "text/html": [
              "<div>\n",
              "<style scoped>\n",
              "    .dataframe tbody tr th:only-of-type {\n",
              "        vertical-align: middle;\n",
              "    }\n",
              "\n",
              "    .dataframe tbody tr th {\n",
              "        vertical-align: top;\n",
              "    }\n",
              "\n",
              "    .dataframe thead th {\n",
              "        text-align: right;\n",
              "    }\n",
              "</style>\n",
              "<table border=\"1\" class=\"dataframe\">\n",
              "  <thead>\n",
              "    <tr style=\"text-align: right;\">\n",
              "      <th></th>\n",
              "      <th>Loan_Status_num</th>\n",
              "    </tr>\n",
              "    <tr>\n",
              "      <th>Gender</th>\n",
              "      <th></th>\n",
              "    </tr>\n",
              "  </thead>\n",
              "  <tbody>\n",
              "    <tr>\n",
              "      <th>Female</th>\n",
              "      <td>67.0</td>\n",
              "    </tr>\n",
              "    <tr>\n",
              "      <th>Male</th>\n",
              "      <td>69.0</td>\n",
              "    </tr>\n",
              "  </tbody>\n",
              "</table>\n",
              "</div>"
            ],
            "text/plain": [
              "        Loan_Status_num\n",
              "Gender                 \n",
              "Female             67.0\n",
              "Male               69.0"
            ]
          },
          "metadata": {
            "tags": []
          },
          "execution_count": 86
        }
      ]
    },
    {
      "cell_type": "code",
      "metadata": {
        "colab": {
          "base_uri": "https://localhost:8080/",
          "height": 442
        },
        "id": "gaJSzpNt2m1N",
        "outputId": "4a6a4e67-5989-4007-dab0-714bf4888024"
      },
      "source": [
        "fig, ax = plt.subplots(figsize=(5, 7))\n",
        "\n",
        "sns.countplot(x='Gender', data=df, ax=ax)\n",
        "plt.show()"
      ],
      "execution_count": 87,
      "outputs": [
        {
          "output_type": "display_data",
          "data": {
            "image/png": "[encoded data removed]",
            "text/plain": [
              "<Figure size 360x504 with 1 Axes>"
            ]
          },
          "metadata": {
            "tags": [],
            "needs_background": "light"
          }
        }
      ]
    },
    {
      "cell_type": "code",
      "metadata": {
        "colab": {
          "base_uri": "https://localhost:8080/",
          "height": 606
        },
        "id": "J5xjyC6m3MLA",
        "outputId": "3c5522ec-4918-4cb2-8e2b-49213f3a72fa"
      },
      "source": [
        "fig, ax = plt.subplots(figsize=(10, 10))\n",
        "pal = sns.color_palette(\"pastel\")\n",
        "sns.set_palette(\"GnBu\")\n",
        "\n",
        "sns.countplot(x='Dependents', data=df, ax=ax, hue='Married')\n",
        "plt.show()"
      ],
      "execution_count": 88,
      "outputs": [
        {
          "output_type": "display_data",
          "data": {
            "image/png": "[encoded data removed]",
            "text/plain": [
              "<Figure size 720x720 with 1 Axes>"
            ]
          },
          "metadata": {
            "tags": [],
            "needs_background": "light"
          }
        }
      ]
    },
    {
      "cell_type": "code",
      "metadata": {
        "colab": {
          "base_uri": "https://localhost:8080/",
          "height": 201
        },
        "id": "2udBFkgi5aSS",
        "outputId": "6c160063-7e9a-4a52-ae9c-b0094777e00c"
      },
      "source": [
        "pd.DataFrame(df.groupby('Dependents')['ApplicantIncome'].mean())*100"
      ],
      "execution_count": 89,
      "outputs": [
        {
          "output_type": "execute_result",
          "data": {
            "text/html": [
              "<div>\n",
              "<style scoped>\n",
              "    .dataframe tbody tr th:only-of-type {\n",
              "        vertical-align: middle;\n",
              "    }\n",
              "\n",
              "    .dataframe tbody tr th {\n",
              "        vertical-align: top;\n",
              "    }\n",
              "\n",
              "    .dataframe thead th {\n",
              "        text-align: right;\n",
              "    }\n",
              "</style>\n",
              "<table border=\"1\" class=\"dataframe\">\n",
              "  <thead>\n",
              "    <tr style=\"text-align: right;\">\n",
              "      <th></th>\n",
              "      <th>ApplicantIncome</th>\n",
              "    </tr>\n",
              "    <tr>\n",
              "      <th>Dependents</th>\n",
              "      <th></th>\n",
              "    </tr>\n",
              "  </thead>\n",
              "  <tbody>\n",
              "    <tr>\n",
              "      <th>0</th>\n",
              "      <td>491742.318841</td>\n",
              "    </tr>\n",
              "    <tr>\n",
              "      <th>1</th>\n",
              "      <td>596227.450980</td>\n",
              "    </tr>\n",
              "    <tr>\n",
              "      <th>2</th>\n",
              "      <td>492678.217822</td>\n",
              "    </tr>\n",
              "    <tr>\n",
              "      <th>3+</th>\n",
              "      <td>858121.568627</td>\n",
              "    </tr>\n",
              "  </tbody>\n",
              "</table>\n",
              "</div>"
            ],
            "text/plain": [
              "            ApplicantIncome\n",
              "Dependents                 \n",
              "0             491742.318841\n",
              "1             596227.450980\n",
              "2             492678.217822\n",
              "3+            858121.568627"
            ]
          },
          "metadata": {
            "tags": []
          },
          "execution_count": 89
        }
      ]
    },
    {
      "cell_type": "code",
      "metadata": {
        "colab": {
          "base_uri": "https://localhost:8080/",
          "height": 623
        },
        "id": "csk7m4NV5Iu4",
        "outputId": "a185aea4-cf22-4256-dd73-346bb649657d"
      },
      "source": [
        "fig, ax = plt.subplots(figsize=(10, 10))\n",
        "\n",
        "sns.barplot(x='Dependents', y='ApplicantIncome', data=df, ax=ax)"
      ],
      "execution_count": 90,
      "outputs": [
        {
          "output_type": "execute_result",
          "data": {
            "text/plain": [
              "<matplotlib.axes._subplots.AxesSubplot at 0x7f02501fec90>"
            ]
          },
          "metadata": {
            "tags": []
          },
          "execution_count": 90
        },
        {
          "output_type": "display_data",
          "data": {
            "image/png": "[encoded data removed]",
            "text/plain": [
              "<Figure size 720x720 with 1 Axes>"
            ]
          },
          "metadata": {
            "tags": [],
            "needs_background": "light"
          }
        }
      ]
    },
    {
      "cell_type": "code",
      "metadata": {
        "colab": {
          "base_uri": "https://localhost:8080/",
          "height": 140
        },
        "id": "DWWaOgOf0MvD",
        "outputId": "1b4e22a0-211b-4e66-ccf5-c751fc7db9c5"
      },
      "source": [
        "(pd.DataFrame(round(df.groupby('Married')['Loan_Status_num'].mean(), 2))*100)"
      ],
      "execution_count": 91,
      "outputs": [
        {
          "output_type": "execute_result",
          "data": {
            "text/html": [
              "<div>\n",
              "<style scoped>\n",
              "    .dataframe tbody tr th:only-of-type {\n",
              "        vertical-align: middle;\n",
              "    }\n",
              "\n",
              "    .dataframe tbody tr th {\n",
              "        vertical-align: top;\n",
              "    }\n",
              "\n",
              "    .dataframe thead th {\n",
              "        text-align: right;\n",
              "    }\n",
              "</style>\n",
              "<table border=\"1\" class=\"dataframe\">\n",
              "  <thead>\n",
              "    <tr style=\"text-align: right;\">\n",
              "      <th></th>\n",
              "      <th>Loan_Status_num</th>\n",
              "    </tr>\n",
              "    <tr>\n",
              "      <th>Married</th>\n",
              "      <th></th>\n",
              "    </tr>\n",
              "  </thead>\n",
              "  <tbody>\n",
              "    <tr>\n",
              "      <th>No</th>\n",
              "      <td>63.0</td>\n",
              "    </tr>\n",
              "    <tr>\n",
              "      <th>Yes</th>\n",
              "      <td>72.0</td>\n",
              "    </tr>\n",
              "  </tbody>\n",
              "</table>\n",
              "</div>"
            ],
            "text/plain": [
              "         Loan_Status_num\n",
              "Married                 \n",
              "No                  63.0\n",
              "Yes                 72.0"
            ]
          },
          "metadata": {
            "tags": []
          },
          "execution_count": 91
        }
      ]
    },
    {
      "cell_type": "code",
      "metadata": {
        "colab": {
          "base_uri": "https://localhost:8080/",
          "height": 626
        },
        "id": "ygtDANz93Awa",
        "outputId": "ab49b9a7-b2ca-41f5-ef3f-1c69c65b55a7"
      },
      "source": [
        "fig, ax = plt.subplots(2, 1, figsize=(10, 10))\n",
        "\n",
        "df['ApplicantIncome_log'] = df['ApplicantIncome'].apply(lambda x: np.log(x))\n",
        "sns.histplot(x='ApplicantIncome', data=df, ax=ax[0])\n",
        "sns.histplot(x='ApplicantIncome_log', data=df, ax=ax[1])"
      ],
      "execution_count": 92,
      "outputs": [
        {
          "output_type": "execute_result",
          "data": {
            "text/plain": [
              "<matplotlib.axes._subplots.AxesSubplot at 0x7f02501cae90>"
            ]
          },
          "metadata": {
            "tags": []
          },
          "execution_count": 92
        },
        {
          "output_type": "display_data",
          "data": {
            "image/png": "[encoded data removed]",
            "text/plain": [
              "<Figure size 720x720 with 2 Axes>"
            ]
          },
          "metadata": {
            "tags": [],
            "needs_background": "light"
          }
        }
      ]
    },
    {
      "cell_type": "code",
      "metadata": {
        "colab": {
          "base_uri": "https://localhost:8080/",
          "height": 221
        },
        "id": "cfMFqKdF7uRy",
        "outputId": "9b400823-e3d9-4189-9bf6-a7cd296b2fba"
      },
      "source": [
        "df.head()"
      ],
      "execution_count": 93,
      "outputs": [
        {
          "output_type": "execute_result",
          "data": {
            "text/html": [
              "<div>\n",
              "<style scoped>\n",
              "    .dataframe tbody tr th:only-of-type {\n",
              "        vertical-align: middle;\n",
              "    }\n",
              "\n",
              "    .dataframe tbody tr th {\n",
              "        vertical-align: top;\n",
              "    }\n",
              "\n",
              "    .dataframe thead th {\n",
              "        text-align: right;\n",
              "    }\n",
              "</style>\n",
              "<table border=\"1\" class=\"dataframe\">\n",
              "  <thead>\n",
              "    <tr style=\"text-align: right;\">\n",
              "      <th></th>\n",
              "      <th>Loan_ID</th>\n",
              "      <th>Gender</th>\n",
              "      <th>Married</th>\n",
              "      <th>Dependents</th>\n",
              "      <th>Education</th>\n",
              "      <th>Self_Employed</th>\n",
              "      <th>ApplicantIncome</th>\n",
              "      <th>Loan_Amount_Term</th>\n",
              "      <th>CoapplicantIncome</th>\n",
              "      <th>LoanAmount</th>\n",
              "      <th>Credit_History</th>\n",
              "      <th>Property_Area</th>\n",
              "      <th>Loan_Status</th>\n",
              "      <th>Loan_Status_num</th>\n",
              "      <th>ApplicantIncome_log</th>\n",
              "    </tr>\n",
              "  </thead>\n",
              "  <tbody>\n",
              "    <tr>\n",
              "      <th>0</th>\n",
              "      <td>LP001585</td>\n",
              "      <td>NaN</td>\n",
              "      <td>Yes</td>\n",
              "      <td>3+</td>\n",
              "      <td>Graduate</td>\n",
              "      <td>No</td>\n",
              "      <td>51763</td>\n",
              "      <td>300.0</td>\n",
              "      <td>0</td>\n",
              "      <td>700.0</td>\n",
              "      <td>1.0</td>\n",
              "      <td>Urban</td>\n",
              "      <td>Y</td>\n",
              "      <td>1</td>\n",
              "      <td>10.854431</td>\n",
              "    </tr>\n",
              "    <tr>\n",
              "      <th>1</th>\n",
              "      <td>LP001469</td>\n",
              "      <td>Male</td>\n",
              "      <td>No</td>\n",
              "      <td>0</td>\n",
              "      <td>Graduate</td>\n",
              "      <td>Yes</td>\n",
              "      <td>20166</td>\n",
              "      <td>480.0</td>\n",
              "      <td>0</td>\n",
              "      <td>650.0</td>\n",
              "      <td>NaN</td>\n",
              "      <td>Urban</td>\n",
              "      <td>Y</td>\n",
              "      <td>1</td>\n",
              "      <td>9.911753</td>\n",
              "    </tr>\n",
              "    <tr>\n",
              "      <th>2</th>\n",
              "      <td>LP001536</td>\n",
              "      <td>Male</td>\n",
              "      <td>Yes</td>\n",
              "      <td>3+</td>\n",
              "      <td>Graduate</td>\n",
              "      <td>No</td>\n",
              "      <td>39999</td>\n",
              "      <td>180.0</td>\n",
              "      <td>0</td>\n",
              "      <td>600.0</td>\n",
              "      <td>0.0</td>\n",
              "      <td>Semiurban</td>\n",
              "      <td>Y</td>\n",
              "      <td>1</td>\n",
              "      <td>10.596610</td>\n",
              "    </tr>\n",
              "    <tr>\n",
              "      <th>3</th>\n",
              "      <td>LP002813</td>\n",
              "      <td>Female</td>\n",
              "      <td>Yes</td>\n",
              "      <td>1</td>\n",
              "      <td>Graduate</td>\n",
              "      <td>Yes</td>\n",
              "      <td>19484</td>\n",
              "      <td>360.0</td>\n",
              "      <td>0</td>\n",
              "      <td>600.0</td>\n",
              "      <td>1.0</td>\n",
              "      <td>Semiurban</td>\n",
              "      <td>Y</td>\n",
              "      <td>1</td>\n",
              "      <td>9.877349</td>\n",
              "    </tr>\n",
              "    <tr>\n",
              "      <th>4</th>\n",
              "      <td>LP002191</td>\n",
              "      <td>Male</td>\n",
              "      <td>Yes</td>\n",
              "      <td>0</td>\n",
              "      <td>Graduate</td>\n",
              "      <td>No</td>\n",
              "      <td>19730</td>\n",
              "      <td>360.0</td>\n",
              "      <td>5266</td>\n",
              "      <td>570.0</td>\n",
              "      <td>1.0</td>\n",
              "      <td>Rural</td>\n",
              "      <td>N</td>\n",
              "      <td>0</td>\n",
              "      <td>9.889896</td>\n",
              "    </tr>\n",
              "  </tbody>\n",
              "</table>\n",
              "</div>"
            ],
            "text/plain": [
              "    Loan_ID  Gender Married  ... Loan_Status Loan_Status_num ApplicantIncome_log\n",
              "0  LP001585     NaN     Yes  ...           Y               1           10.854431\n",
              "1  LP001469    Male      No  ...           Y               1            9.911753\n",
              "2  LP001536    Male     Yes  ...           Y               1           10.596610\n",
              "3  LP002813  Female     Yes  ...           Y               1            9.877349\n",
              "4  LP002191    Male     Yes  ...           N               0            9.889896\n",
              "\n",
              "[5 rows x 15 columns]"
            ]
          },
          "metadata": {
            "tags": []
          },
          "execution_count": 93
        }
      ]
    },
    {
      "cell_type": "code",
      "metadata": {
        "colab": {
          "base_uri": "https://localhost:8080/",
          "height": 262
        },
        "id": "XwxyQlJc2FRk",
        "outputId": "faab9146-c7f2-4033-9827-d73ff85fd8aa"
      },
      "source": [
        "pd.DataFrame(round(df.groupby(['Property_Area', 'Education'])['Loan_Status_num'].mean()*100, 2))"
      ],
      "execution_count": 94,
      "outputs": [
        {
          "output_type": "execute_result",
          "data": {
            "text/html": [
              "<div>\n",
              "<style scoped>\n",
              "    .dataframe tbody tr th:only-of-type {\n",
              "        vertical-align: middle;\n",
              "    }\n",
              "\n",
              "    .dataframe tbody tr th {\n",
              "        vertical-align: top;\n",
              "    }\n",
              "\n",
              "    .dataframe thead th {\n",
              "        text-align: right;\n",
              "    }\n",
              "</style>\n",
              "<table border=\"1\" class=\"dataframe\">\n",
              "  <thead>\n",
              "    <tr style=\"text-align: right;\">\n",
              "      <th></th>\n",
              "      <th></th>\n",
              "      <th>Loan_Status_num</th>\n",
              "    </tr>\n",
              "    <tr>\n",
              "      <th>Property_Area</th>\n",
              "      <th>Education</th>\n",
              "      <th></th>\n",
              "    </tr>\n",
              "  </thead>\n",
              "  <tbody>\n",
              "    <tr>\n",
              "      <th rowspan=\"2\" valign=\"top\">Rural</th>\n",
              "      <th>Graduate</th>\n",
              "      <td>64.12</td>\n",
              "    </tr>\n",
              "    <tr>\n",
              "      <th>Not Graduate</th>\n",
              "      <td>54.17</td>\n",
              "    </tr>\n",
              "    <tr>\n",
              "      <th rowspan=\"2\" valign=\"top\">Semiurban</th>\n",
              "      <th>Graduate</th>\n",
              "      <td>77.01</td>\n",
              "    </tr>\n",
              "    <tr>\n",
              "      <th>Not Graduate</th>\n",
              "      <td>76.09</td>\n",
              "    </tr>\n",
              "    <tr>\n",
              "      <th rowspan=\"2\" valign=\"top\">Urban</th>\n",
              "      <th>Graduate</th>\n",
              "      <td>69.14</td>\n",
              "    </tr>\n",
              "    <tr>\n",
              "      <th>Not Graduate</th>\n",
              "      <td>52.50</td>\n",
              "    </tr>\n",
              "  </tbody>\n",
              "</table>\n",
              "</div>"
            ],
            "text/plain": [
              "                            Loan_Status_num\n",
              "Property_Area Education                    \n",
              "Rural         Graduate                64.12\n",
              "              Not Graduate            54.17\n",
              "Semiurban     Graduate                77.01\n",
              "              Not Graduate            76.09\n",
              "Urban         Graduate                69.14\n",
              "              Not Graduate            52.50"
            ]
          },
          "metadata": {
            "tags": []
          },
          "execution_count": 94
        }
      ]
    },
    {
      "cell_type": "code",
      "metadata": {
        "colab": {
          "base_uri": "https://localhost:8080/",
          "height": 109
        },
        "id": "7PeNjz-43EjF",
        "outputId": "352dae16-f5f7-4553-d25e-2db3c2190edc"
      },
      "source": [
        "df_ = pd.DataFrame(round(df.groupby('Self_Employed')['ApplicantIncome'].mean()*100, 2))\n",
        "val = df_.values\n",
        "ind = df_.index\n",
        "df_ = pd.DataFrame(zip(ind, val)).rename(columns={0:'ind', 1:'val'})\n",
        "df_['val'] = df_['val'].astype('float64')\n",
        "df_"
      ],
      "execution_count": 95,
      "outputs": [
        {
          "output_type": "execute_result",
          "data": {
            "text/html": [
              "<div>\n",
              "<style scoped>\n",
              "    .dataframe tbody tr th:only-of-type {\n",
              "        vertical-align: middle;\n",
              "    }\n",
              "\n",
              "    .dataframe tbody tr th {\n",
              "        vertical-align: top;\n",
              "    }\n",
              "\n",
              "    .dataframe thead th {\n",
              "        text-align: right;\n",
              "    }\n",
              "</style>\n",
              "<table border=\"1\" class=\"dataframe\">\n",
              "  <thead>\n",
              "    <tr style=\"text-align: right;\">\n",
              "      <th></th>\n",
              "      <th>ind</th>\n",
              "      <th>val</th>\n",
              "    </tr>\n",
              "  </thead>\n",
              "  <tbody>\n",
              "    <tr>\n",
              "      <th>0</th>\n",
              "      <td>No</td>\n",
              "      <td>504974.80</td>\n",
              "    </tr>\n",
              "    <tr>\n",
              "      <th>1</th>\n",
              "      <td>Yes</td>\n",
              "      <td>738081.71</td>\n",
              "    </tr>\n",
              "  </tbody>\n",
              "</table>\n",
              "</div>"
            ],
            "text/plain": [
              "   ind        val\n",
              "0   No  504974.80\n",
              "1  Yes  738081.71"
            ]
          },
          "metadata": {
            "tags": []
          },
          "execution_count": 95
        }
      ]
    },
    {
      "cell_type": "code",
      "metadata": {
        "colab": {
          "base_uri": "https://localhost:8080/",
          "height": 606
        },
        "id": "QrpmAQKH2cDB",
        "outputId": "4e96ba48-7ead-49bc-94c6-e581ee86fb44"
      },
      "source": [
        "fig, ax = plt.subplots(figsize=(7, 10))\n",
        "\n",
        "sns.barplot(x='ind', y='val', data=df_)\n",
        "\n",
        "plt.show()"
      ],
      "execution_count": 96,
      "outputs": [
        {
          "output_type": "display_data",
          "data": {
            "image/png": "[encoded data removed]",
            "text/plain": [
              "<Figure size 504x720 with 1 Axes>"
            ]
          },
          "metadata": {
            "tags": [],
            "needs_background": "light"
          }
        }
      ]
    },
    {
      "cell_type": "code",
      "metadata": {
        "colab": {
          "base_uri": "https://localhost:8080/",
          "height": 221
        },
        "id": "CKe8S4Yg2kau",
        "outputId": "bf24a8dc-c0bf-4725-c5d6-569b8a3f8ce1"
      },
      "source": [
        "df.head()"
      ],
      "execution_count": 97,
      "outputs": [
        {
          "output_type": "execute_result",
          "data": {
            "text/html": [
              "<div>\n",
              "<style scoped>\n",
              "    .dataframe tbody tr th:only-of-type {\n",
              "        vertical-align: middle;\n",
              "    }\n",
              "\n",
              "    .dataframe tbody tr th {\n",
              "        vertical-align: top;\n",
              "    }\n",
              "\n",
              "    .dataframe thead th {\n",
              "        text-align: right;\n",
              "    }\n",
              "</style>\n",
              "<table border=\"1\" class=\"dataframe\">\n",
              "  <thead>\n",
              "    <tr style=\"text-align: right;\">\n",
              "      <th></th>\n",
              "      <th>Loan_ID</th>\n",
              "      <th>Gender</th>\n",
              "      <th>Married</th>\n",
              "      <th>Dependents</th>\n",
              "      <th>Education</th>\n",
              "      <th>Self_Employed</th>\n",
              "      <th>ApplicantIncome</th>\n",
              "      <th>Loan_Amount_Term</th>\n",
              "      <th>CoapplicantIncome</th>\n",
              "      <th>LoanAmount</th>\n",
              "      <th>Credit_History</th>\n",
              "      <th>Property_Area</th>\n",
              "      <th>Loan_Status</th>\n",
              "      <th>Loan_Status_num</th>\n",
              "      <th>ApplicantIncome_log</th>\n",
              "    </tr>\n",
              "  </thead>\n",
              "  <tbody>\n",
              "    <tr>\n",
              "      <th>0</th>\n",
              "      <td>LP001585</td>\n",
              "      <td>NaN</td>\n",
              "      <td>Yes</td>\n",
              "      <td>3+</td>\n",
              "      <td>Graduate</td>\n",
              "      <td>No</td>\n",
              "      <td>51763</td>\n",
              "      <td>300.0</td>\n",
              "      <td>0</td>\n",
              "      <td>700.0</td>\n",
              "      <td>1.0</td>\n",
              "      <td>Urban</td>\n",
              "      <td>Y</td>\n",
              "      <td>1</td>\n",
              "      <td>10.854431</td>\n",
              "    </tr>\n",
              "    <tr>\n",
              "      <th>1</th>\n",
              "      <td>LP001469</td>\n",
              "      <td>Male</td>\n",
              "      <td>No</td>\n",
              "      <td>0</td>\n",
              "      <td>Graduate</td>\n",
              "      <td>Yes</td>\n",
              "      <td>20166</td>\n",
              "      <td>480.0</td>\n",
              "      <td>0</td>\n",
              "      <td>650.0</td>\n",
              "      <td>NaN</td>\n",
              "      <td>Urban</td>\n",
              "      <td>Y</td>\n",
              "      <td>1</td>\n",
              "      <td>9.911753</td>\n",
              "    </tr>\n",
              "    <tr>\n",
              "      <th>2</th>\n",
              "      <td>LP001536</td>\n",
              "      <td>Male</td>\n",
              "      <td>Yes</td>\n",
              "      <td>3+</td>\n",
              "      <td>Graduate</td>\n",
              "      <td>No</td>\n",
              "      <td>39999</td>\n",
              "      <td>180.0</td>\n",
              "      <td>0</td>\n",
              "      <td>600.0</td>\n",
              "      <td>0.0</td>\n",
              "      <td>Semiurban</td>\n",
              "      <td>Y</td>\n",
              "      <td>1</td>\n",
              "      <td>10.596610</td>\n",
              "    </tr>\n",
              "    <tr>\n",
              "      <th>3</th>\n",
              "      <td>LP002813</td>\n",
              "      <td>Female</td>\n",
              "      <td>Yes</td>\n",
              "      <td>1</td>\n",
              "      <td>Graduate</td>\n",
              "      <td>Yes</td>\n",
              "      <td>19484</td>\n",
              "      <td>360.0</td>\n",
              "      <td>0</td>\n",
              "      <td>600.0</td>\n",
              "      <td>1.0</td>\n",
              "      <td>Semiurban</td>\n",
              "      <td>Y</td>\n",
              "      <td>1</td>\n",
              "      <td>9.877349</td>\n",
              "    </tr>\n",
              "    <tr>\n",
              "      <th>4</th>\n",
              "      <td>LP002191</td>\n",
              "      <td>Male</td>\n",
              "      <td>Yes</td>\n",
              "      <td>0</td>\n",
              "      <td>Graduate</td>\n",
              "      <td>No</td>\n",
              "      <td>19730</td>\n",
              "      <td>360.0</td>\n",
              "      <td>5266</td>\n",
              "      <td>570.0</td>\n",
              "      <td>1.0</td>\n",
              "      <td>Rural</td>\n",
              "      <td>N</td>\n",
              "      <td>0</td>\n",
              "      <td>9.889896</td>\n",
              "    </tr>\n",
              "  </tbody>\n",
              "</table>\n",
              "</div>"
            ],
            "text/plain": [
              "    Loan_ID  Gender Married  ... Loan_Status Loan_Status_num ApplicantIncome_log\n",
              "0  LP001585     NaN     Yes  ...           Y               1           10.854431\n",
              "1  LP001469    Male      No  ...           Y               1            9.911753\n",
              "2  LP001536    Male     Yes  ...           Y               1           10.596610\n",
              "3  LP002813  Female     Yes  ...           Y               1            9.877349\n",
              "4  LP002191    Male     Yes  ...           N               0            9.889896\n",
              "\n",
              "[5 rows x 15 columns]"
            ]
          },
          "metadata": {
            "tags": []
          },
          "execution_count": 97
        }
      ]
    },
    {
      "cell_type": "code",
      "metadata": {
        "colab": {
          "base_uri": "https://localhost:8080/",
          "height": 606
        },
        "id": "TUfVu-kiyjUS",
        "outputId": "5f108e25-04bf-4f54-9df0-da78a77e70af"
      },
      "source": [
        "fig, ax = plt.subplots(figsize=(10, 10))\n",
        "pal = sns.color_palette(\"gist_rainbow_r\")\n",
        "sns.set_palette(\"gist_rainbow_r\")\n",
        "\n",
        "sns.scatterplot(x='ApplicantIncome', y='LoanAmount', data=df, hue='Loan_Status')\n",
        "plt.show()"
      ],
      "execution_count": 98,
      "outputs": [
        {
          "output_type": "display_data",
          "data": {
            "image/png": "[encoded data removed]",
            "text/plain": [
              "<Figure size 720x720 with 1 Axes>"
            ]
          },
          "metadata": {
            "tags": [],
            "needs_background": "light"
          }
        }
      ]
    },
    {
      "cell_type": "code",
      "metadata": {
        "colab": {
          "base_uri": "https://localhost:8080/",
          "height": 779
        },
        "id": "7_IwXEN7zDDZ",
        "outputId": "63e88af2-416f-4ccf-b97c-6900c1c28d5c"
      },
      "source": [
        "df_ai = df.sort_values(by='ApplicantIncome', ascending=True)\n",
        "df_la = df.sort_values(by='Loan_Amount_Term', ascending=True)\n",
        "\n",
        "fig, ax = plt.subplots(2, 1, figsize=(40, 20))\n",
        "\n",
        "sns.lineplot(x='Loan_ID', y='ApplicantIncome', data=df_ai, ax=ax[0])\n",
        "sns.lineplot(x='Loan_ID', y='Loan_Amount_Term', data=df_la, ax=ax[1])\n",
        "\n",
        "plt.show()"
      ],
      "execution_count": 99,
      "outputs": [
        {
          "output_type": "display_data",
          "data": {
            "image/png": "[encoded data removed]",
            "text/plain": [
              "<Figure size 2880x1440 with 2 Axes>"
            ]
          },
          "metadata": {
            "tags": [],
            "needs_background": "light"
          }
        }
      ]
    },
    {
      "cell_type": "code",
      "metadata": {
        "colab": {
          "base_uri": "https://localhost:8080/"
        },
        "id": "5zndwKwuz2Gx",
        "outputId": "23a6d5bf-e95f-484f-fd56-3dac01b59ee1"
      },
      "source": [
        "df.Credit_History.value_counts()\n",
        "df.Loan_Status.value_counts()"
      ],
      "execution_count": 100,
      "outputs": [
        {
          "output_type": "execute_result",
          "data": {
            "text/plain": [
              "Y    422\n",
              "N    192\n",
              "Name: Loan_Status, dtype: int64"
            ]
          },
          "metadata": {
            "tags": []
          },
          "execution_count": 100
        }
      ]
    },
    {
      "cell_type": "code",
      "metadata": {
        "colab": {
          "base_uri": "https://localhost:8080/"
        },
        "id": "uVSBCYRM1Dsz",
        "outputId": "12bb8604-d204-468d-9cca-a22c2ece2b2f"
      },
      "source": [
        "df.shape"
      ],
      "execution_count": 101,
      "outputs": [
        {
          "output_type": "execute_result",
          "data": {
            "text/plain": [
              "(614, 15)"
            ]
          },
          "metadata": {
            "tags": []
          },
          "execution_count": 101
        }
      ]
    },
    {
      "cell_type": "code",
      "metadata": {
        "colab": {
          "base_uri": "https://localhost:8080/",
          "height": 99
        },
        "id": "gOTP8MDo1UYr",
        "outputId": "b1bbff7b-3840-4b08-e4dc-d55486030bc8"
      },
      "source": [
        "df.head(1)"
      ],
      "execution_count": 102,
      "outputs": [
        {
          "output_type": "execute_result",
          "data": {
            "text/html": [
              "<div>\n",
              "<style scoped>\n",
              "    .dataframe tbody tr th:only-of-type {\n",
              "        vertical-align: middle;\n",
              "    }\n",
              "\n",
              "    .dataframe tbody tr th {\n",
              "        vertical-align: top;\n",
              "    }\n",
              "\n",
              "    .dataframe thead th {\n",
              "        text-align: right;\n",
              "    }\n",
              "</style>\n",
              "<table border=\"1\" class=\"dataframe\">\n",
              "  <thead>\n",
              "    <tr style=\"text-align: right;\">\n",
              "      <th></th>\n",
              "      <th>Loan_ID</th>\n",
              "      <th>Gender</th>\n",
              "      <th>Married</th>\n",
              "      <th>Dependents</th>\n",
              "      <th>Education</th>\n",
              "      <th>Self_Employed</th>\n",
              "      <th>ApplicantIncome</th>\n",
              "      <th>Loan_Amount_Term</th>\n",
              "      <th>CoapplicantIncome</th>\n",
              "      <th>LoanAmount</th>\n",
              "      <th>Credit_History</th>\n",
              "      <th>Property_Area</th>\n",
              "      <th>Loan_Status</th>\n",
              "      <th>Loan_Status_num</th>\n",
              "      <th>ApplicantIncome_log</th>\n",
              "    </tr>\n",
              "  </thead>\n",
              "  <tbody>\n",
              "    <tr>\n",
              "      <th>0</th>\n",
              "      <td>LP001585</td>\n",
              "      <td>NaN</td>\n",
              "      <td>Yes</td>\n",
              "      <td>3+</td>\n",
              "      <td>Graduate</td>\n",
              "      <td>No</td>\n",
              "      <td>51763</td>\n",
              "      <td>300.0</td>\n",
              "      <td>0</td>\n",
              "      <td>700.0</td>\n",
              "      <td>1.0</td>\n",
              "      <td>Urban</td>\n",
              "      <td>Y</td>\n",
              "      <td>1</td>\n",
              "      <td>10.854431</td>\n",
              "    </tr>\n",
              "  </tbody>\n",
              "</table>\n",
              "</div>"
            ],
            "text/plain": [
              "    Loan_ID Gender Married  ... Loan_Status Loan_Status_num ApplicantIncome_log\n",
              "0  LP001585    NaN     Yes  ...           Y               1           10.854431\n",
              "\n",
              "[1 rows x 15 columns]"
            ]
          },
          "metadata": {
            "tags": []
          },
          "execution_count": 102
        }
      ]
    },
    {
      "cell_type": "code",
      "metadata": {
        "colab": {
          "base_uri": "https://localhost:8080/"
        },
        "id": "93waNFE11Ubj",
        "outputId": "74b03a50-9a52-4f21-d455-4d96158d9541"
      },
      "source": [
        "len(df.ApplicantIncome.value_counts())"
      ],
      "execution_count": 103,
      "outputs": [
        {
          "output_type": "execute_result",
          "data": {
            "text/plain": [
              "505"
            ]
          },
          "metadata": {
            "tags": []
          },
          "execution_count": 103
        }
      ]
    },
    {
      "cell_type": "code",
      "metadata": {
        "id": "fwPcjcgp1UeR"
      },
      "source": [
        "df['Income_bin'] = pd.qcut(df['ApplicantIncome'], 3 , ['High', 'Medium', 'Low'])"
      ],
      "execution_count": 104,
      "outputs": []
    },
    {
      "cell_type": "code",
      "metadata": {
        "colab": {
          "base_uri": "https://localhost:8080/"
        },
        "id": "ui9Bo0M-1UhF",
        "outputId": "5aa69a0a-2386-446f-a0a2-40a13a8b3702"
      },
      "source": [
        "df['Income_bin'].value_counts()"
      ],
      "execution_count": 105,
      "outputs": [
        {
          "output_type": "execute_result",
          "data": {
            "text/plain": [
              "High      207\n",
              "Low       205\n",
              "Medium    202\n",
              "Name: Income_bin, dtype: int64"
            ]
          },
          "metadata": {
            "tags": []
          },
          "execution_count": 105
        }
      ]
    },
    {
      "cell_type": "code",
      "metadata": {
        "colab": {
          "base_uri": "https://localhost:8080/"
        },
        "id": "qc08S7Bb4InY",
        "outputId": "a6da6829-a600-4c58-a0c1-0c24cac90626"
      },
      "source": [
        "for i in df['Income_bin'].value_counts().index:\n",
        "  print(i)"
      ],
      "execution_count": 106,
      "outputs": [
        {
          "output_type": "stream",
          "text": [
            "High\n",
            "Low\n",
            "Medium\n"
          ],
          "name": "stdout"
        }
      ]
    },
    {
      "cell_type": "code",
      "metadata": {
        "colab": {
          "base_uri": "https://localhost:8080/",
          "height": 1000
        },
        "id": "MSGVV2Ro1Ujt",
        "outputId": "d8b1e50f-e069-4069-d47a-09c1187968d2"
      },
      "source": [
        "fig, ax = plt.subplots(3, 1, figsize=(10, 30))\n",
        "\n",
        "sns.countplot('Income_bin', data=df, ax=ax[0], hue='Credit_History')\n",
        "ax[0].set_xticklabels(df['Income_bin'].value_counts().index, fontsize=15)\n",
        "\n",
        "sns.countplot('Income_bin', data=df, ax=ax[1], hue='Loan_Status')\n",
        "ax[1].set_xticklabels(df['Income_bin'].value_counts().index, fontsize=15)\n",
        "\n",
        "sns.countplot('Income_bin', data=df, ax=ax[2], hue='Property_Area')\n",
        "ax[2].set_xticklabels(df['Income_bin'].value_counts().index, fontsize=15)\n",
        "plt.show()"
      ],
      "execution_count": 107,
      "outputs": [
        {
          "output_type": "stream",
          "text": [
            "/usr/local/lib/python3.7/dist-packages/seaborn/_decorators.py:43: FutureWarning: Pass the following variable as a keyword arg: x. From version 0.12, the only valid positional argument will be `data`, and passing other arguments without an explicit keyword will result in an error or misinterpretation.\n",
            "  FutureWarning\n",
            "/usr/local/lib/python3.7/dist-packages/seaborn/_decorators.py:43: FutureWarning: Pass the following variable as a keyword arg: x. From version 0.12, the only valid positional argument will be `data`, and passing other arguments without an explicit keyword will result in an error or misinterpretation.\n",
            "  FutureWarning\n",
            "/usr/local/lib/python3.7/dist-packages/seaborn/_decorators.py:43: FutureWarning: Pass the following variable as a keyword arg: x. From version 0.12, the only valid positional argument will be `data`, and passing other arguments without an explicit keyword will result in an error or misinterpretation.\n",
            "  FutureWarning\n"
          ],
          "name": "stderr"
        },
        {
          "output_type": "display_data",
          "data": {
            "image/png": "[encoded data removed]",
            "text/plain": [
              "<Figure size 720x2160 with 3 Axes>"
            ]
          },
          "metadata": {
            "tags": [],
            "needs_background": "light"
          }
        }
      ]
    },
    {
      "cell_type": "code",
      "metadata": {
        "colab": {
          "base_uri": "https://localhost:8080/",
          "height": 99
        },
        "id": "Yj-Zu4mP3egl",
        "outputId": "5ee9aea7-6286-45f5-87bb-98ad3ac34913"
      },
      "source": [
        "df.head(1)"
      ],
      "execution_count": 108,
      "outputs": [
        {
          "output_type": "execute_result",
          "data": {
            "text/html": [
              "<div>\n",
              "<style scoped>\n",
              "    .dataframe tbody tr th:only-of-type {\n",
              "        vertical-align: middle;\n",
              "    }\n",
              "\n",
              "    .dataframe tbody tr th {\n",
              "        vertical-align: top;\n",
              "    }\n",
              "\n",
              "    .dataframe thead th {\n",
              "        text-align: right;\n",
              "    }\n",
              "</style>\n",
              "<table border=\"1\" class=\"dataframe\">\n",
              "  <thead>\n",
              "    <tr style=\"text-align: right;\">\n",
              "      <th></th>\n",
              "      <th>Loan_ID</th>\n",
              "      <th>Gender</th>\n",
              "      <th>Married</th>\n",
              "      <th>Dependents</th>\n",
              "      <th>Education</th>\n",
              "      <th>Self_Employed</th>\n",
              "      <th>ApplicantIncome</th>\n",
              "      <th>Loan_Amount_Term</th>\n",
              "      <th>CoapplicantIncome</th>\n",
              "      <th>LoanAmount</th>\n",
              "      <th>Credit_History</th>\n",
              "      <th>Property_Area</th>\n",
              "      <th>Loan_Status</th>\n",
              "      <th>Loan_Status_num</th>\n",
              "      <th>ApplicantIncome_log</th>\n",
              "      <th>Income_bin</th>\n",
              "    </tr>\n",
              "  </thead>\n",
              "  <tbody>\n",
              "    <tr>\n",
              "      <th>0</th>\n",
              "      <td>LP001585</td>\n",
              "      <td>NaN</td>\n",
              "      <td>Yes</td>\n",
              "      <td>3+</td>\n",
              "      <td>Graduate</td>\n",
              "      <td>No</td>\n",
              "      <td>51763</td>\n",
              "      <td>300.0</td>\n",
              "      <td>0</td>\n",
              "      <td>700.0</td>\n",
              "      <td>1.0</td>\n",
              "      <td>Urban</td>\n",
              "      <td>Y</td>\n",
              "      <td>1</td>\n",
              "      <td>10.854431</td>\n",
              "      <td>Low</td>\n",
              "    </tr>\n",
              "  </tbody>\n",
              "</table>\n",
              "</div>"
            ],
            "text/plain": [
              "    Loan_ID Gender Married  ... Loan_Status_num ApplicantIncome_log Income_bin\n",
              "0  LP001585    NaN     Yes  ...               1           10.854431        Low\n",
              "\n",
              "[1 rows x 16 columns]"
            ]
          },
          "metadata": {
            "tags": []
          },
          "execution_count": 108
        }
      ]
    },
    {
      "cell_type": "code",
      "metadata": {
        "colab": {
          "base_uri": "https://localhost:8080/"
        },
        "id": "z_RenKsh3v08",
        "outputId": "1d495c1c-a67e-42d5-a58e-e3f148a65440"
      },
      "source": [
        "df.isnull().sum()"
      ],
      "execution_count": 109,
      "outputs": [
        {
          "output_type": "execute_result",
          "data": {
            "text/plain": [
              "Loan_ID                 0\n",
              "Gender                 13\n",
              "Married                 3\n",
              "Dependents             15\n",
              "Education               0\n",
              "Self_Employed          32\n",
              "ApplicantIncome         0\n",
              "Loan_Amount_Term       14\n",
              "CoapplicantIncome       0\n",
              "LoanAmount             22\n",
              "Credit_History         50\n",
              "Property_Area           0\n",
              "Loan_Status             0\n",
              "Loan_Status_num         0\n",
              "ApplicantIncome_log     0\n",
              "Income_bin              0\n",
              "dtype: int64"
            ]
          },
          "metadata": {
            "tags": []
          },
          "execution_count": 109
        }
      ]
    },
    {
      "cell_type": "code",
      "metadata": {
        "id": "XxzX_FbcUpcA"
      },
      "source": [
        ""
      ],
      "execution_count": 109,
      "outputs": []
    },
    {
      "cell_type": "code",
      "metadata": {
        "id": "e28F-RNoUe_r"
      },
      "source": [
        "#df['filled_age'] = df.groupby(['Sex', 'SibSp'])['Age'].transform(lambda x: x.fillna(np.mean(x)))"
      ],
      "execution_count": 110,
      "outputs": []
    },
    {
      "cell_type": "code",
      "metadata": {
        "colab": {
          "base_uri": "https://localhost:8080/"
        },
        "id": "OJGugAzZU33R",
        "outputId": "bcc22536-bd69-47f6-b734-0b347b5bcecc"
      },
      "source": [
        "df.select_dtypes('object').columns"
      ],
      "execution_count": 111,
      "outputs": [
        {
          "output_type": "execute_result",
          "data": {
            "text/plain": [
              "Index(['Loan_ID', 'Gender', 'Married', 'Dependents', 'Education',\n",
              "       'Self_Employed', 'Property_Area', 'Loan_Status'],\n",
              "      dtype='object')"
            ]
          },
          "metadata": {
            "tags": []
          },
          "execution_count": 111
        }
      ]
    },
    {
      "cell_type": "code",
      "metadata": {
        "colab": {
          "base_uri": "https://localhost:8080/"
        },
        "id": "lUetsuXIWHK8",
        "outputId": "b7a837a8-a3a8-466f-fe16-6a14a63b8c68"
      },
      "source": [
        "df.groupby(['Gender', 'Education'])['LoanAmount'].mean()"
      ],
      "execution_count": 112,
      "outputs": [
        {
          "output_type": "execute_result",
          "data": {
            "text/plain": [
              "Gender  Education   \n",
              "Female  Graduate        129.855556\n",
              "        Not Graduate    111.736842\n",
              "Male    Graduate        157.994490\n",
              "        Not Graduate    119.654206\n",
              "Name: LoanAmount, dtype: float64"
            ]
          },
          "metadata": {
            "tags": []
          },
          "execution_count": 112
        }
      ]
    },
    {
      "cell_type": "code",
      "metadata": {
        "id": "XzQ4R7ELTYCT"
      },
      "source": [
        "#df['LoanAmount'] = df.groupby(['Gender', 'Education'])['LoanAmount'].transform(lambda x: x.fillna(x.mean()))"
      ],
      "execution_count": 113,
      "outputs": []
    },
    {
      "cell_type": "code",
      "metadata": {
        "colab": {
          "base_uri": "https://localhost:8080/"
        },
        "id": "E-7fQnJ2TgOy",
        "outputId": "78d7601e-3629-4e17-caf2-a3e5e8271b7a"
      },
      "source": [
        "df.groupby(['Gender', 'Education'])['Credit_History'].agg(pd.Series.mode)"
      ],
      "execution_count": 114,
      "outputs": [
        {
          "output_type": "execute_result",
          "data": {
            "text/plain": [
              "Gender  Education   \n",
              "Female  Graduate        1.0\n",
              "        Not Graduate    1.0\n",
              "Male    Graduate        1.0\n",
              "        Not Graduate    1.0\n",
              "Name: Credit_History, dtype: float64"
            ]
          },
          "metadata": {
            "tags": []
          },
          "execution_count": 114
        }
      ]
    },
    {
      "cell_type": "code",
      "metadata": {
        "id": "S01Wo0ldYalB"
      },
      "source": [
        "df['Credit_History'] = df.groupby(['Gender', 'Education'])['Credit_History'].apply(lambda x: x.fillna(x.mode().iloc[0]))"
      ],
      "execution_count": 115,
      "outputs": []
    },
    {
      "cell_type": "code",
      "metadata": {
        "id": "AwuaaSIjZB2Z"
      },
      "source": [
        "df['Self_Employed'] = df.groupby(['Gender', 'Education'])['Self_Employed'].apply(lambda x: x.fillna(x.mode().iloc[0]))"
      ],
      "execution_count": 116,
      "outputs": []
    },
    {
      "cell_type": "code",
      "metadata": {
        "id": "m1qce1vuZEUv"
      },
      "source": [
        "df['Gender'] = df.groupby(['Married', 'Education'])['Gender'].apply(lambda x: x.fillna(x.mode().iloc[0]))"
      ],
      "execution_count": 117,
      "outputs": []
    },
    {
      "cell_type": "code",
      "metadata": {
        "id": "ju1BSK8dZvtX"
      },
      "source": [
        "df = df.dropna()"
      ],
      "execution_count": 118,
      "outputs": []
    },
    {
      "cell_type": "code",
      "metadata": {
        "id": "eSNEB9YOZ1AP"
      },
      "source": [
        "vals = [i for i in df.columns if df[i].dtype != 'object']"
      ],
      "execution_count": 119,
      "outputs": []
    },
    {
      "cell_type": "code",
      "metadata": {
        "id": "TCLT6gJgdVX1"
      },
      "source": [
        "def bxplt(col, df):\n",
        "  fig, ax = plt.subplots(figsize=(30, 5))\n",
        "\n",
        "  sns.boxplot(x=col, data=df, ax=ax)\n",
        "  ax.set_xlabel(col, fontsize=20)\n",
        "  plt.show()"
      ],
      "execution_count": 120,
      "outputs": []
    },
    {
      "cell_type": "code",
      "metadata": {
        "colab": {
          "base_uri": "https://localhost:8080/",
          "height": 315
        },
        "id": "OTd44L91e7nH",
        "outputId": "04db42db-7a07-4cc3-97af-36a978287962"
      },
      "source": [
        "bxplt('LoanAmount', df)"
      ],
      "execution_count": 121,
      "outputs": [
        {
          "output_type": "display_data",
          "data": {
            "image/png": "[encoded data removed]",
            "text/plain": [
              "<Figure size 2160x360 with 1 Axes>"
            ]
          },
          "metadata": {
            "tags": [],
            "needs_background": "light"
          }
        }
      ]
    },
    {
      "cell_type": "code",
      "metadata": {
        "colab": {
          "base_uri": "https://localhost:8080/"
        },
        "id": "E_xTIaDQe7sB",
        "outputId": "03f7c72c-3180-47f1-e82e-3dced6020786"
      },
      "source": [
        "df.columns"
      ],
      "execution_count": 122,
      "outputs": [
        {
          "output_type": "execute_result",
          "data": {
            "text/plain": [
              "Index(['Loan_ID', 'Gender', 'Married', 'Dependents', 'Education',\n",
              "       'Self_Employed', 'ApplicantIncome', 'Loan_Amount_Term',\n",
              "       'CoapplicantIncome', 'LoanAmount', 'Credit_History', 'Property_Area',\n",
              "       'Loan_Status', 'Loan_Status_num', 'ApplicantIncome_log', 'Income_bin'],\n",
              "      dtype='object')"
            ]
          },
          "metadata": {
            "tags": []
          },
          "execution_count": 122
        }
      ]
    },
    {
      "cell_type": "code",
      "metadata": {
        "colab": {
          "base_uri": "https://localhost:8080/",
          "height": 441
        },
        "id": "vZBJJvE5e7wc",
        "outputId": "3a5b6dac-2096-43ce-b058-c7530a8d9cd5"
      },
      "source": [
        "g = sns.FacetGrid(df, col='Married', row='Gender')\n",
        "g.map_dataframe(sns.histplot, x='ApplicantIncome')\n",
        "g.add_legend()\n",
        "plt.show()"
      ],
      "execution_count": 123,
      "outputs": [
        {
          "output_type": "display_data",
          "data": {
            "image/png": "[encoded data removed]",
            "text/plain": [
              "<Figure size 440x432 with 4 Axes>"
            ]
          },
          "metadata": {
            "tags": [],
            "needs_background": "light"
          }
        }
      ]
    },
    {
      "cell_type": "code",
      "metadata": {
        "colab": {
          "base_uri": "https://localhost:8080/",
          "height": 441
        },
        "id": "3ZMwwWIfe72V",
        "outputId": "e5456850-5a7f-4b8b-86ff-b0e303f38a97"
      },
      "source": [
        "g = sns.FacetGrid(df, col='Education', row='Gender')\n",
        "g.map_dataframe(sns.scatterplot, x='ApplicantIncome', y='LoanAmount')\n",
        "g.add_legend()\n",
        "plt.show()"
      ],
      "execution_count": 124,
      "outputs": [
        {
          "output_type": "display_data",
          "data": {
            "image/png": "[encoded data removed]",
            "text/plain": [
              "<Figure size 440x432 with 4 Axes>"
            ]
          },
          "metadata": {
            "tags": [],
            "needs_background": "light"
          }
        }
      ]
    },
    {
      "cell_type": "code",
      "metadata": {
        "colab": {
          "base_uri": "https://localhost:8080/"
        },
        "id": "mL-nVq2sZ2wG",
        "outputId": "9c0c481c-cd33-4710-fa50-91c729e70bf9"
      },
      "source": [
        "df.columns"
      ],
      "execution_count": 125,
      "outputs": [
        {
          "output_type": "execute_result",
          "data": {
            "text/plain": [
              "Index(['Loan_ID', 'Gender', 'Married', 'Dependents', 'Education',\n",
              "       'Self_Employed', 'ApplicantIncome', 'Loan_Amount_Term',\n",
              "       'CoapplicantIncome', 'LoanAmount', 'Credit_History', 'Property_Area',\n",
              "       'Loan_Status', 'Loan_Status_num', 'ApplicantIncome_log', 'Income_bin'],\n",
              "      dtype='object')"
            ]
          },
          "metadata": {
            "tags": []
          },
          "execution_count": 125
        }
      ]
    },
    {
      "cell_type": "code",
      "metadata": {
        "colab": {
          "base_uri": "https://localhost:8080/",
          "height": 1000
        },
        "id": "lvQ4D4ecbwnR",
        "outputId": "1e0dbfbf-f9db-4702-da5d-ff94dcbf74b2"
      },
      "source": [
        "fig, ax = plt.subplots(3, 1, figsize=(10, 20))\n",
        "\n",
        "df_ = df.loc[df['Loan_Amount_Term'] != 360]\n",
        "\n",
        "sns.countplot(x='Loan_Amount_Term', data=df_, ax=ax[0], hue='Loan_Status')\n",
        "sns.countplot(x='Loan_Amount_Term', data=df, ax=ax[1], hue='Loan_Status')\n",
        "sns.histplot(x='LoanAmount', data=df, ax=ax[2], hue='Loan_Status')\n",
        "plt.show()"
      ],
      "execution_count": 126,
      "outputs": [
        {
          "output_type": "display_data",
          "data": {
            "image/png": "[encoded data removed]",
            "text/plain": [
              "<Figure size 720x1440 with 3 Axes>"
            ]
          },
          "metadata": {
            "tags": [],
            "needs_background": "light"
          }
        }
      ]
    },
    {
      "cell_type": "code",
      "metadata": {
        "colab": {
          "base_uri": "https://localhost:8080/"
        },
        "id": "cOE_6ZjLcQ46",
        "outputId": "89e2fd91-7b8c-4372-be6b-4658acb1cc80"
      },
      "source": [
        "df.columns"
      ],
      "execution_count": 127,
      "outputs": [
        {
          "output_type": "execute_result",
          "data": {
            "text/plain": [
              "Index(['Loan_ID', 'Gender', 'Married', 'Dependents', 'Education',\n",
              "       'Self_Employed', 'ApplicantIncome', 'Loan_Amount_Term',\n",
              "       'CoapplicantIncome', 'LoanAmount', 'Credit_History', 'Property_Area',\n",
              "       'Loan_Status', 'Loan_Status_num', 'ApplicantIncome_log', 'Income_bin'],\n",
              "      dtype='object')"
            ]
          },
          "metadata": {
            "tags": []
          },
          "execution_count": 127
        }
      ]
    },
    {
      "cell_type": "code",
      "metadata": {
        "id": "GwjgO9aLqN15"
      },
      "source": [
        "ind = df.Dependents.value_counts().sort_values(ascending=False).index\n",
        "val = df.Dependents.value_counts().sort_values(ascending=False).values\n",
        "df_ = pd.DataFrame(zip(ind, val)).rename(columns={0:'ind', 1:'val'})"
      ],
      "execution_count": 128,
      "outputs": []
    },
    {
      "cell_type": "code",
      "metadata": {
        "id": "xBE18H64dtkD",
        "colab": {
          "base_uri": "https://localhost:8080/",
          "height": 1000
        },
        "outputId": "d8c08b0c-f07d-4a07-ad86-6e8f87f2d2e7"
      },
      "source": [
        "fig, ax = plt.subplots(2, 1, figsize=(10, 20))\n",
        "\n",
        "sns.barplot(x='ind', y='val', data=df_, ax=ax[0],)\n",
        "sns.countplot(x='Dependents', data=df, ax=ax[1], hue='Education')\n",
        "plt.show()"
      ],
      "execution_count": 129,
      "outputs": [
        {
          "output_type": "display_data",
          "data": {
            "image/png": "[encoded data removed]",
            "text/plain": [
              "<Figure size 720x1440 with 2 Axes>"
            ]
          },
          "metadata": {
            "tags": [],
            "needs_background": "light"
          }
        }
      ]
    },
    {
      "cell_type": "code",
      "metadata": {
        "id": "gE69biIld4c9",
        "colab": {
          "base_uri": "https://localhost:8080/"
        },
        "outputId": "30092249-e230-4fb2-c974-742704d75c57"
      },
      "source": [
        "df.columns"
      ],
      "execution_count": 130,
      "outputs": [
        {
          "output_type": "execute_result",
          "data": {
            "text/plain": [
              "Index(['Loan_ID', 'Gender', 'Married', 'Dependents', 'Education',\n",
              "       'Self_Employed', 'ApplicantIncome', 'Loan_Amount_Term',\n",
              "       'CoapplicantIncome', 'LoanAmount', 'Credit_History', 'Property_Area',\n",
              "       'Loan_Status', 'Loan_Status_num', 'ApplicantIncome_log', 'Income_bin'],\n",
              "      dtype='object')"
            ]
          },
          "metadata": {
            "tags": []
          },
          "execution_count": 130
        }
      ]
    },
    {
      "cell_type": "code",
      "metadata": {
        "id": "tKNUhB6xd4hL",
        "colab": {
          "base_uri": "https://localhost:8080/",
          "height": 540
        },
        "outputId": "3166d1af-f23e-49d6-f2ff-40ff7c93f4e7"
      },
      "source": [
        "fig, ax = plt.subplots(figsize=(30, 10))\n",
        "\n",
        "ind = df.Loan_ID\n",
        "val = df.LoanAmount.cumsum()\n",
        "\n",
        "df__ = pd.DataFrame(zip(ind, val)).rename(columns={0:'ind', 1:'val'})\n",
        "\n",
        "sns.lineplot(x='ind', y='val', data=df__, ax=ax)\n",
        "plt.show()"
      ],
      "execution_count": 131,
      "outputs": [
        {
          "output_type": "display_data",
          "data": {
            "image/png": "[encoded data removed]",
            "text/plain": [
              "<Figure size 2160x720 with 1 Axes>"
            ]
          },
          "metadata": {
            "tags": [],
            "needs_background": "light"
          }
        }
      ]
    },
    {
      "cell_type": "code",
      "metadata": {
        "colab": {
          "base_uri": "https://localhost:8080/"
        },
        "id": "-d9B49V7v0jb",
        "outputId": "a8d9aa1d-e76c-47b9-818f-77c7512cff01"
      },
      "source": [
        "df.columns"
      ],
      "execution_count": 132,
      "outputs": [
        {
          "output_type": "execute_result",
          "data": {
            "text/plain": [
              "Index(['Loan_ID', 'Gender', 'Married', 'Dependents', 'Education',\n",
              "       'Self_Employed', 'ApplicantIncome', 'Loan_Amount_Term',\n",
              "       'CoapplicantIncome', 'LoanAmount', 'Credit_History', 'Property_Area',\n",
              "       'Loan_Status', 'Loan_Status_num', 'ApplicantIncome_log', 'Income_bin'],\n",
              "      dtype='object')"
            ]
          },
          "metadata": {
            "tags": []
          },
          "execution_count": 132
        }
      ]
    },
    {
      "cell_type": "code",
      "metadata": {
        "colab": {
          "base_uri": "https://localhost:8080/",
          "height": 646
        },
        "id": "e2rtfZPZurXi",
        "outputId": "b6287766-24f3-4d3b-f0fc-77eb5ff834c2"
      },
      "source": [
        "fig, ax = plt.subplots(figsize=(10, 10))\n",
        "\n",
        "sns.lineplot(x='Loan_ID', y='ApplicantIncome', data=df)\n",
        "sns.lineplot(x='Loan_ID', y='CoapplicantIncome', data=df)\n",
        "plt.xticks(df.Loan_ID, rotation=90)\n",
        "plt.show()"
      ],
      "execution_count": 133,
      "outputs": [
        {
          "output_type": "display_data",
          "data": {
            "image/png": "[encoded data removed]",
            "text/plain": [
              "<Figure size 720x720 with 1 Axes>"
            ]
          },
          "metadata": {
            "tags": [],
            "needs_background": "light"
          }
        }
      ]
    },
    {
      "cell_type": "code",
      "metadata": {
        "id": "KyDqmj2LMU5o"
      },
      "source": [
        "df['Income_bin'] = df['Income_bin'].astype('object')"
      ],
      "execution_count": 134,
      "outputs": []
    },
    {
      "cell_type": "code",
      "metadata": {
        "colab": {
          "base_uri": "https://localhost:8080/"
        },
        "id": "SHlkBflSJ6TC",
        "outputId": "c7160546-a526-4eb9-c484-af94b1368fdf"
      },
      "source": [
        "vals = [i for i in df.columns if df[i].dtype != 'object']\n",
        "\n",
        "for i in vals:\n",
        "  q3 = np.percentile(df[i], 75)\n",
        "  q1 = np.percentile(df[i], 25)\n",
        "  iqr = q3 - q1\n",
        "  floor = q1 - iqr*3\n",
        "  ceil = q3 + iqr*3\n",
        "  v_lower = df.loc[df[i] < floor, i]\n",
        "  v_upper = df.loc[df[i] > ceil , i]\n",
        "  print(f'{i}')\n",
        "  print(f'Lower: {v_lower}\\n')\n",
        "  print(f'Upper: {v_upper}\\n')"
      ],
      "execution_count": 135,
      "outputs": [
        {
          "output_type": "stream",
          "text": [
            "ApplicantIncome\n",
            "Lower: Series([], Name: ApplicantIncome, dtype: int64)\n",
            "\n",
            "Upper: 1      20166\n",
            "2      39999\n",
            "3      19484\n",
            "4      19730\n",
            "5      18333\n",
            "8      63337\n",
            "9      20233\n",
            "10     20833\n",
            "14     17500\n",
            "18     81000\n",
            "28     14683\n",
            "29     15000\n",
            "38     16666\n",
            "41     33846\n",
            "43     16120\n",
            "56     14999\n",
            "65     17263\n",
            "88     16250\n",
            "195    37719\n",
            "204    16525\n",
            "310    18165\n",
            "333    39147\n",
            "468    14880\n",
            "501    16667\n",
            "538    14866\n",
            "564    15759\n",
            "Name: ApplicantIncome, dtype: int64\n",
            "\n",
            "Loan_Amount_Term\n",
            "Lower: 2      180.0\n",
            "8      180.0\n",
            "15     300.0\n",
            "19     180.0\n",
            "35     180.0\n",
            "       ...  \n",
            "580    180.0\n",
            "582    180.0\n",
            "588    120.0\n",
            "589    120.0\n",
            "590    120.0\n",
            "Name: Loan_Amount_Term, Length: 67, dtype: float64\n",
            "\n",
            "Upper: 1      480.0\n",
            "104    480.0\n",
            "199    480.0\n",
            "317    480.0\n",
            "367    480.0\n",
            "376    480.0\n",
            "377    480.0\n",
            "435    480.0\n",
            "444    480.0\n",
            "467    480.0\n",
            "481    480.0\n",
            "533    480.0\n",
            "552    480.0\n",
            "Name: Loan_Amount_Term, dtype: float64\n",
            "\n",
            "CoapplicantIncome\n",
            "Lower: Series([], Name: CoapplicantIncome, dtype: int64)\n",
            "\n",
            "Upper: 7      11300\n",
            "19     41667\n",
            "20     10968\n",
            "58     20000\n",
            "432    20000\n",
            "493    33837\n",
            "Name: CoapplicantIncome, dtype: int64\n",
            "\n",
            "LoanAmount\n",
            "Lower: Series([], Name: LoanAmount, dtype: float64)\n",
            "\n",
            "Upper: 1     650.0\n",
            "2     600.0\n",
            "3     600.0\n",
            "4     570.0\n",
            "5     500.0\n",
            "6     496.0\n",
            "7     495.0\n",
            "8     490.0\n",
            "9     480.0\n",
            "10    480.0\n",
            "11    480.0\n",
            "12    436.0\n",
            "13    405.0\n",
            "14    400.0\n",
            "Name: LoanAmount, dtype: float64\n",
            "\n",
            "Credit_History\n",
            "Lower: 2      0.0\n",
            "7      0.0\n",
            "16     0.0\n",
            "18     0.0\n",
            "33     0.0\n",
            "      ... \n",
            "540    0.0\n",
            "548    0.0\n",
            "552    0.0\n",
            "555    0.0\n",
            "576    0.0\n",
            "Name: Credit_History, Length: 71, dtype: float64\n",
            "\n",
            "Upper: Series([], Name: Credit_History, dtype: float64)\n",
            "\n",
            "Loan_Status_num\n",
            "Lower: Series([], Name: Loan_Status_num, dtype: int64)\n",
            "\n",
            "Upper: Series([], Name: Loan_Status_num, dtype: int64)\n",
            "\n",
            "ApplicantIncome_log\n",
            "Lower: 249    5.010635\n",
            "460    5.347108\n",
            "Name: ApplicantIncome_log, dtype: float64\n",
            "\n",
            "Upper: 8     11.056225\n",
            "18    11.302204\n",
            "Name: ApplicantIncome_log, dtype: float64\n",
            "\n"
          ],
          "name": "stdout"
        }
      ]
    },
    {
      "cell_type": "code",
      "metadata": {
        "colab": {
          "base_uri": "https://localhost:8080/"
        },
        "id": "8XuFKORvMSVM",
        "outputId": "ecb0f504-b3cb-48d6-c627-50a9d014673b"
      },
      "source": [
        "df.Education.value_counts(dropna=True)"
      ],
      "execution_count": 136,
      "outputs": [
        {
          "output_type": "execute_result",
          "data": {
            "text/plain": [
              "Graduate        437\n",
              "Not Graduate    116\n",
              "Name: Education, dtype: int64"
            ]
          },
          "metadata": {
            "tags": []
          },
          "execution_count": 136
        }
      ]
    },
    {
      "cell_type": "code",
      "metadata": {
        "colab": {
          "base_uri": "https://localhost:8080/"
        },
        "id": "o1JH78svO3ay",
        "outputId": "85e18d6d-a70e-45d5-aefe-7c99c9685773"
      },
      "source": [
        "df.columns"
      ],
      "execution_count": 137,
      "outputs": [
        {
          "output_type": "execute_result",
          "data": {
            "text/plain": [
              "Index(['Loan_ID', 'Gender', 'Married', 'Dependents', 'Education',\n",
              "       'Self_Employed', 'ApplicantIncome', 'Loan_Amount_Term',\n",
              "       'CoapplicantIncome', 'LoanAmount', 'Credit_History', 'Property_Area',\n",
              "       'Loan_Status', 'Loan_Status_num', 'ApplicantIncome_log', 'Income_bin'],\n",
              "      dtype='object')"
            ]
          },
          "metadata": {
            "tags": []
          },
          "execution_count": 137
        }
      ]
    },
    {
      "cell_type": "code",
      "metadata": {
        "colab": {
          "base_uri": "https://localhost:8080/",
          "height": 140
        },
        "id": "SYGnC81qNBcS",
        "outputId": "136eae4a-ba0d-4ab4-ea81-ba7093fa4c97"
      },
      "source": [
        "pd.DataFrame(round(df.groupby('Education')['ApplicantIncome'].mean(), 2))"
      ],
      "execution_count": 138,
      "outputs": [
        {
          "output_type": "execute_result",
          "data": {
            "text/html": [
              "<div>\n",
              "<style scoped>\n",
              "    .dataframe tbody tr th:only-of-type {\n",
              "        vertical-align: middle;\n",
              "    }\n",
              "\n",
              "    .dataframe tbody tr th {\n",
              "        vertical-align: top;\n",
              "    }\n",
              "\n",
              "    .dataframe thead th {\n",
              "        text-align: right;\n",
              "    }\n",
              "</style>\n",
              "<table border=\"1\" class=\"dataframe\">\n",
              "  <thead>\n",
              "    <tr style=\"text-align: right;\">\n",
              "      <th></th>\n",
              "      <th>ApplicantIncome</th>\n",
              "    </tr>\n",
              "    <tr>\n",
              "      <th>Education</th>\n",
              "      <th></th>\n",
              "    </tr>\n",
              "  </thead>\n",
              "  <tbody>\n",
              "    <tr>\n",
              "      <th>Graduate</th>\n",
              "      <td>5744.03</td>\n",
              "    </tr>\n",
              "    <tr>\n",
              "      <th>Not Graduate</th>\n",
              "      <td>3865.70</td>\n",
              "    </tr>\n",
              "  </tbody>\n",
              "</table>\n",
              "</div>"
            ],
            "text/plain": [
              "              ApplicantIncome\n",
              "Education                    \n",
              "Graduate              5744.03\n",
              "Not Graduate          3865.70"
            ]
          },
          "metadata": {
            "tags": []
          },
          "execution_count": 138
        }
      ]
    },
    {
      "cell_type": "code",
      "metadata": {
        "colab": {
          "base_uri": "https://localhost:8080/"
        },
        "id": "8HZX6vj3Oimj",
        "outputId": "b67053c5-1d44-4a7c-baee-628f706e1c14"
      },
      "source": [
        "df.groupby(['Education'])['Income_bin'].agg(pd.Series.mode)"
      ],
      "execution_count": 139,
      "outputs": [
        {
          "output_type": "execute_result",
          "data": {
            "text/plain": [
              "Education\n",
              "Graduate         Low\n",
              "Not Graduate    High\n",
              "Name: Income_bin, dtype: object"
            ]
          },
          "metadata": {
            "tags": []
          },
          "execution_count": 139
        }
      ]
    },
    {
      "cell_type": "code",
      "metadata": {
        "colab": {
          "base_uri": "https://localhost:8080/",
          "height": 1000
        },
        "id": "-y1S3NhdPT7B",
        "outputId": "a83af78b-13ff-48d2-b121-fc9c570d1e89"
      },
      "source": [
        "ind = df.loc[df['Education'] == 'Graduate', 'Income_bin'].value_counts()\n",
        "ind_ = df.loc[df['Education'] != 'Graduate', 'Income_bin'].value_counts()\n",
        "\n",
        "i = ind.index\n",
        "v = ind.values\n",
        "\n",
        "i_ = ind_.index\n",
        "v_ = ind_.values\n",
        "\n",
        "df_ = pd.DataFrame(zip(i, v)).rename(columns={0:'i', 1:'v'})\n",
        "df__ = pd.DataFrame(zip(i_, v_)).rename(columns={0:'i_', 1:'v_'})\n",
        "\n",
        "fig, ax = plt.subplots(2, 1, figsize=(10, 25))\n",
        "\n",
        "sns.barplot(x='i', y='v', data=df_, ax=ax[0])\n",
        "sns.barplot(x='i_', y='v_', data=df__, ax=ax[1])\n",
        "plt.show()"
      ],
      "execution_count": 140,
      "outputs": [
        {
          "output_type": "display_data",
          "data": {
            "image/png": "[encoded data removed]",
            "text/plain": [
              "<Figure size 720x1800 with 2 Axes>"
            ]
          },
          "metadata": {
            "tags": [],
            "needs_background": "light"
          }
        }
      ]
    },
    {
      "cell_type": "code",
      "metadata": {
        "id": "nI8929XGPpNo"
      },
      "source": [
        "df.Loan_ID.head()\n",
        "\n",
        "df.Loan_ID = df.Loan_ID.apply(lambda x: x.split('P00')[1].strip())"
      ],
      "execution_count": 154,
      "outputs": []
    },
    {
      "cell_type": "code",
      "metadata": {
        "colab": {
          "base_uri": "https://localhost:8080/"
        },
        "id": "_1w6B6Lg5Z9L",
        "outputId": "eab04904-944d-4a17-917f-ab021eea6862"
      },
      "source": [
        "df.Credit_History.value_counts()"
      ],
      "execution_count": 160,
      "outputs": [
        {
          "output_type": "execute_result",
          "data": {
            "text/plain": [
              "1.0    482\n",
              "0.0     71\n",
              "Name: Credit_History, dtype: int64"
            ]
          },
          "metadata": {
            "tags": []
          },
          "execution_count": 160
        }
      ]
    },
    {
      "cell_type": "code",
      "metadata": {
        "id": "0K9m3ddX8Ye3"
      },
      "source": [
        "def group_by(w, x, y, z, agg):\n",
        "\n",
        "  if agg == 'mean':\n",
        "    return pd.DataFrame(round((df.groupby([w, x, y])[z].mean())*100,2))\n",
        "  \n",
        "  elif agg == 'mode':\n",
        "    return pd.DataFrame(df.groupby([w, x, y])[z].agg(pd.Series.mode))\n"
      ],
      "execution_count": 186,
      "outputs": []
    },
    {
      "cell_type": "code",
      "metadata": {
        "id": "KMPgszvs8rzr"
      },
      "source": [
        "#group_by('Income_bin', 'Credit_History', 'Property_Area', 'Education', 'mode')"
      ],
      "execution_count": 195,
      "outputs": []
    },
    {
      "cell_type": "code",
      "metadata": {
        "id": "dTbhSmmqyk7_",
        "colab": {
          "base_uri": "https://localhost:8080/",
          "height": 445
        },
        "outputId": "fc7bea01-dc18-47ea-c4b6-dc0a2ad57756"
      },
      "source": [
        "pd.DataFrame(df.groupby(['Income_bin', 'Credit_History', 'Gender'])['Education'].agg(pd.Series.mode))"
      ],
      "execution_count": 194,
      "outputs": [
        {
          "output_type": "execute_result",
          "data": {
            "text/html": [
              "<div>\n",
              "<style scoped>\n",
              "    .dataframe tbody tr th:only-of-type {\n",
              "        vertical-align: middle;\n",
              "    }\n",
              "\n",
              "    .dataframe tbody tr th {\n",
              "        vertical-align: top;\n",
              "    }\n",
              "\n",
              "    .dataframe thead th {\n",
              "        text-align: right;\n",
              "    }\n",
              "</style>\n",
              "<table border=\"1\" class=\"dataframe\">\n",
              "  <thead>\n",
              "    <tr style=\"text-align: right;\">\n",
              "      <th></th>\n",
              "      <th></th>\n",
              "      <th></th>\n",
              "      <th>Education</th>\n",
              "    </tr>\n",
              "    <tr>\n",
              "      <th>Income_bin</th>\n",
              "      <th>Credit_History</th>\n",
              "      <th>Gender</th>\n",
              "      <th></th>\n",
              "    </tr>\n",
              "  </thead>\n",
              "  <tbody>\n",
              "    <tr>\n",
              "      <th rowspan=\"4\" valign=\"top\">High</th>\n",
              "      <th rowspan=\"2\" valign=\"top\">0.0</th>\n",
              "      <th>Female</th>\n",
              "      <td>Graduate</td>\n",
              "    </tr>\n",
              "    <tr>\n",
              "      <th>Male</th>\n",
              "      <td>Not Graduate</td>\n",
              "    </tr>\n",
              "    <tr>\n",
              "      <th rowspan=\"2\" valign=\"top\">1.0</th>\n",
              "      <th>Female</th>\n",
              "      <td>Graduate</td>\n",
              "    </tr>\n",
              "    <tr>\n",
              "      <th>Male</th>\n",
              "      <td>Graduate</td>\n",
              "    </tr>\n",
              "    <tr>\n",
              "      <th rowspan=\"4\" valign=\"top\">Low</th>\n",
              "      <th rowspan=\"2\" valign=\"top\">0.0</th>\n",
              "      <th>Female</th>\n",
              "      <td>Graduate</td>\n",
              "    </tr>\n",
              "    <tr>\n",
              "      <th>Male</th>\n",
              "      <td>Graduate</td>\n",
              "    </tr>\n",
              "    <tr>\n",
              "      <th rowspan=\"2\" valign=\"top\">1.0</th>\n",
              "      <th>Female</th>\n",
              "      <td>Graduate</td>\n",
              "    </tr>\n",
              "    <tr>\n",
              "      <th>Male</th>\n",
              "      <td>Graduate</td>\n",
              "    </tr>\n",
              "    <tr>\n",
              "      <th rowspan=\"4\" valign=\"top\">Medium</th>\n",
              "      <th rowspan=\"2\" valign=\"top\">0.0</th>\n",
              "      <th>Female</th>\n",
              "      <td>Graduate</td>\n",
              "    </tr>\n",
              "    <tr>\n",
              "      <th>Male</th>\n",
              "      <td>Graduate</td>\n",
              "    </tr>\n",
              "    <tr>\n",
              "      <th rowspan=\"2\" valign=\"top\">1.0</th>\n",
              "      <th>Female</th>\n",
              "      <td>Graduate</td>\n",
              "    </tr>\n",
              "    <tr>\n",
              "      <th>Male</th>\n",
              "      <td>Graduate</td>\n",
              "    </tr>\n",
              "  </tbody>\n",
              "</table>\n",
              "</div>"
            ],
            "text/plain": [
              "                                     Education\n",
              "Income_bin Credit_History Gender              \n",
              "High       0.0            Female      Graduate\n",
              "                          Male    Not Graduate\n",
              "           1.0            Female      Graduate\n",
              "                          Male        Graduate\n",
              "Low        0.0            Female      Graduate\n",
              "                          Male        Graduate\n",
              "           1.0            Female      Graduate\n",
              "                          Male        Graduate\n",
              "Medium     0.0            Female      Graduate\n",
              "                          Male        Graduate\n",
              "           1.0            Female      Graduate\n",
              "                          Male        Graduate"
            ]
          },
          "metadata": {
            "tags": []
          },
          "execution_count": 194
        }
      ]
    },
    {
      "cell_type": "code",
      "metadata": {
        "colab": {
          "base_uri": "https://localhost:8080/"
        },
        "id": "qiv6xm1S157y",
        "outputId": "53e457b4-8b42-40a3-897d-41b2252970dd"
      },
      "source": [
        "df[df['Married'] == 'No'][df['Education'] == 'Not Graduate'][df['Property_Area'] == 'Semiurban']['Credit_History']\n",
        "df[df['Income_bin'] == 'High'][df['Credit_History'] == 0][df['Gender'] == 'Male']['Education'].value_counts()"
      ],
      "execution_count": 200,
      "outputs": [
        {
          "output_type": "stream",
          "text": [
            "/usr/local/lib/python3.7/dist-packages/ipykernel_launcher.py:1: UserWarning: Boolean Series key will be reindexed to match DataFrame index.\n",
            "  \"\"\"Entry point for launching an IPython kernel.\n",
            "/usr/local/lib/python3.7/dist-packages/ipykernel_launcher.py:2: UserWarning: Boolean Series key will be reindexed to match DataFrame index.\n",
            "  \n"
          ],
          "name": "stderr"
        },
        {
          "output_type": "execute_result",
          "data": {
            "text/plain": [
              "Not Graduate    11\n",
              "Graduate        10\n",
              "Name: Education, dtype: int64"
            ]
          },
          "metadata": {
            "tags": []
          },
          "execution_count": 200
        }
      ]
    },
    {
      "cell_type": "code",
      "metadata": {
        "colab": {
          "base_uri": "https://localhost:8080/"
        },
        "id": "59RlDMYZCbcw",
        "outputId": "a152c9d8-f917-4aa2-ca76-14549a1906ce"
      },
      "source": [
        "df.columns"
      ],
      "execution_count": 208,
      "outputs": [
        {
          "output_type": "execute_result",
          "data": {
            "text/plain": [
              "Index(['Loan_ID', 'Gender', 'Married', 'Dependents', 'Education',\n",
              "       'Self_Employed', 'ApplicantIncome', 'Loan_Amount_Term',\n",
              "       'CoapplicantIncome', 'LoanAmount', 'Credit_History', 'Property_Area',\n",
              "       'Loan_Status', 'Loan_Status_num', 'ApplicantIncome_log', 'Income_bin'],\n",
              "      dtype='object')"
            ]
          },
          "metadata": {
            "tags": []
          },
          "execution_count": 208
        }
      ]
    },
    {
      "cell_type": "code",
      "metadata": {
        "colab": {
          "base_uri": "https://localhost:8080/"
        },
        "id": "UjVKhK7F6pUP",
        "outputId": "e3c1ee8b-e6ec-49aa-8c4d-34bbf82eac8d"
      },
      "source": [
        "df.ApplicantIncome_log.skew()"
      ],
      "execution_count": 210,
      "outputs": [
        {
          "output_type": "execute_result",
          "data": {
            "text/plain": [
              "0.40729262273469047"
            ]
          },
          "metadata": {
            "tags": []
          },
          "execution_count": 210
        }
      ]
    },
    {
      "cell_type": "code",
      "metadata": {
        "colab": {
          "base_uri": "https://localhost:8080/"
        },
        "id": "uqXxUTzaEV7k",
        "outputId": "4cb00cfa-6b53-44da-a7ec-41f7a2a74215"
      },
      "source": [
        "from sklearn.preprocessing import StandardScaler\n",
        "scl = StandardScaler()\n",
        "\n",
        "np.array(df.ApplicantIncome).reshape(-1, 1)\n",
        "\n",
        "\n",
        "df.ApplicantIncome_scl = scl.fit_transform(np.array(df.ApplicantIncome).reshape(-1, 1)) "
      ],
      "execution_count": 223,
      "outputs": [
        {
          "output_type": "stream",
          "text": [
            "/usr/local/lib/python3.7/dist-packages/ipykernel_launcher.py:7: UserWarning: Pandas doesn't allow columns to be created via a new attribute name - see https://pandas.pydata.org/pandas-docs/stable/indexing.html#attribute-access\n",
            "  import sys\n"
          ],
          "name": "stderr"
        }
      ]
    },
    {
      "cell_type": "code",
      "metadata": {
        "id": "aVUfOeYAE-5m"
      },
      "source": [
        "df__ = pd.DataFrame(df.ApplicantIncome_scl).rename(columns={0:'ApplicantIncome_scl'})\n",
        "\n",
        "df = pd.concat([df, df__])"
      ],
      "execution_count": 230,
      "outputs": []
    },
    {
      "cell_type": "code",
      "metadata": {
        "colab": {
          "base_uri": "https://localhost:8080/"
        },
        "id": "jaf8mM4hGiCa",
        "outputId": "aa67cda2-7a5f-4e35-be80-a33798fc9b8b"
      },
      "source": [
        "df.columns"
      ],
      "execution_count": 231,
      "outputs": [
        {
          "output_type": "execute_result",
          "data": {
            "text/plain": [
              "Index(['Loan_ID', 'Gender', 'Married', 'Dependents', 'Education',\n",
              "       'Self_Employed', 'ApplicantIncome', 'Loan_Amount_Term',\n",
              "       'CoapplicantIncome', 'LoanAmount', 'Credit_History', 'Property_Area',\n",
              "       'Loan_Status', 'Loan_Status_num', 'ApplicantIncome_log', 'Income_bin',\n",
              "       'ApplicantIncome_scl'],\n",
              "      dtype='object')"
            ]
          },
          "metadata": {
            "tags": []
          },
          "execution_count": 231
        }
      ]
    },
    {
      "cell_type": "code",
      "metadata": {
        "colab": {
          "base_uri": "https://localhost:8080/",
          "height": 1000
        },
        "id": "xdQ00NJN6r2-",
        "outputId": "55147efc-0f1e-4d18-b0a1-29129cc313ed"
      },
      "source": [
        "fig, ax = plt.subplots(3, 1, figsize=(10, 30))\n",
        "\n",
        "sns.histplot(x='ApplicantIncome', data=df, ax=ax[0])\n",
        "ax[0].set_xlabel('ApplicantIncome')\n",
        "sns.histplot(x='ApplicantIncome_log', data=df, ax=ax[1])\n",
        "ax[1].set_xlabel('ApplicantIncome_log')\n",
        "sns.histplot(x='ApplicantIncome_scl', data=df, ax=ax[2])\n",
        "ax[2].set_xlabel('ApplicantIncome_scl')\n",
        "plt.show()"
      ],
      "execution_count": 234,
      "outputs": [
        {
          "output_type": "display_data",
          "data": {
            "image/png": "[encoded data removed]",
            "text/plain": [
              "<Figure size 720x2160 with 3 Axes>"
            ]
          },
          "metadata": {
            "tags": [],
            "needs_background": "light"
          }
        }
      ]
    },
    {
      "cell_type": "code",
      "metadata": {
        "id": "-FEedBEeDu2s"
      },
      "source": [
        ""
      ],
      "execution_count": null,
      "outputs": []
    }
  ]
}